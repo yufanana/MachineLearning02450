{
 "cells": [
  {
   "cell_type": "code",
   "execution_count": 1,
   "id": "08ae6485",
   "metadata": {},
   "outputs": [],
   "source": [
    "import numpy as np\n",
    "import matplotlib.pyplot as plt\n",
    "from scipy.stats import norm"
   ]
  },
  {
   "cell_type": "code",
   "execution_count": 3,
   "id": "4096e821",
   "metadata": {},
   "outputs": [
    {
     "data": {
      "text/plain": [
       "0.8788499999999999"
      ]
     },
     "execution_count": 3,
     "metadata": {},
     "output_type": "execute_result"
    }
   ],
   "source": [
    "## Q2\n",
    "cor = 0.15\n",
    "std_x1 = 1.55\n",
    "std_x4 = 3.78\n",
    "\n",
    "cov = cor*std_x1*std_x4\n",
    "# cor = cov/(std_x1*std_x4)\n",
    "cov"
   ]
  },
  {
   "cell_type": "code",
   "execution_count": 6,
   "id": "3a16f3d9",
   "metadata": {},
   "outputs": [
    {
     "name": "stdout",
     "output_type": "stream",
     "text": [
      "rho:\t [0.32794836 0.25780522 0.18423788 0.13823872 0.09176982]\n",
      "cumsum:\t [0.32794836 0.58575358 0.76999146 0.90823018 1.        ]\n"
     ]
    }
   ],
   "source": [
    "## Q3\n",
    "# S: sigma, not squared\n",
    "S = np.array([30.3832,26.9387,22.773,19.7263,16.0724])\n",
    "\n",
    "# rho: variance explained by each PC\n",
    "rho = (S*S) / (S*S).sum()\n",
    "print(f'rho:\\t {rho}')\n",
    "\n",
    "# cumulative sum\n",
    "cumsum = np.cumsum(rho)\n",
    "print(f'cumsum:\\t {cumsum}')\n",
    "\n",
    "# plt.figure()\n",
    "# plt.plot(range(1, len(rho)+1), rho, 'x-')\n",
    "# plt.plot(range(1, len(rho)+1), np.cumsum(rho), 'o-')\n",
    "# plt.title('Variance explained by principal components')\n",
    "# plt.xlabel('Principal component')\n",
    "# plt.ylabel('Variance explained')\n",
    "# plt.legend(['Individual', 'Cumulative'])\n",
    "# plt.grid()\n",
    "# plt.show()"
   ]
  },
  {
   "cell_type": "code",
   "execution_count": 141,
   "id": "cadd4380",
   "metadata": {},
   "outputs": [
    {
     "name": "stdout",
     "output_type": "stream",
     "text": [
      "0.19876308999999992\n",
      "5.400000000002625e-05\n"
     ]
    }
   ],
   "source": [
    "v13 = -0.3413\n",
    "v25 = -0.6508\n",
    "# v13 = 0.3425  # not orthogonal\n",
    "# v25 = -0.6505\n",
    "V = np.array([[-0.5939,0.2906,v13,0.0621,0.6652],\n",
    "              [-0.6521,0.0759,0.0004,0.3813,v25],\n",
    "              [0.2028,-0.5105,-0.7036,0.4508,0.001],\n",
    "              [-0.3696,-0.5414,-0.1781,-0.7244,-0.1173],\n",
    "              [-0.2102,-0.5967,0.5973,0.3503,0.3467]])\n",
    "\n",
    "# check orthogonal\n",
    "print(V[:,1]@V[:,2])\n",
    "print(V[:,1]@V[:,4])"
   ]
  },
  {
   "cell_type": "code",
   "execution_count": 142,
   "id": "201413c4",
   "metadata": {},
   "outputs": [
    {
     "data": {
      "text/plain": [
       "0.46875"
      ]
     },
     "execution_count": 142,
     "metadata": {},
     "output_type": "execute_result"
    }
   ],
   "source": [
    "## Q5\n",
    "K = 3\n",
    "density = K/(1.3+2.4+2.7)       # o1\n",
    "density"
   ]
  },
  {
   "cell_type": "code",
   "execution_count": 16,
   "id": "41d85d5e",
   "metadata": {},
   "outputs": [
    {
     "name": "stdout",
     "output_type": "stream",
     "text": [
      "0.2\n",
      "0.6\n"
     ]
    }
   ],
   "source": [
    "## Q6\n",
    "# testset_1 = {3,5,6,7,10}\n",
    "# testset_2 = {1,2,4,8,9}\n",
    "\n",
    "# Outerfold 1 : K=1 has lowest error, used for testing\n",
    "wrong = [7]\n",
    "error = len(wrong)/5\n",
    "print(error)\n",
    "\n",
    "# Outerfold 2 : K=3 has lowest error, used for testing\n",
    "wrong = [1,2,4]\n",
    "error = len(wrong)/5\n",
    "print(error)"
   ]
  },
  {
   "cell_type": "code",
   "execution_count": 17,
   "id": "0e4d6d23",
   "metadata": {},
   "outputs": [],
   "source": [
    "## Q19, jaccard index\n",
    "def compute_similarity(Z,Q):\n",
    "    \"\"\"\n",
    "    Input: labels of clusters in set Z and Q, \n",
    "    Output: Jaccard index and Rand index.\n",
    "    \"\"\"\n",
    "    import numpy as np\n",
    "    import matplotlib.pyplot as plt\n",
    "\n",
    "    Q = list(map(int,Q.split(\" \")))\n",
    "    Z = list(map(int,Z.split(\" \")))\n",
    "\n",
    "    print(f'Q: {Q}')\n",
    "    print(f'Z: {Z}\\n')\n",
    "\n",
    "    _,n_Q = np.unique(Q, return_counts=True)\n",
    "    _,n_Z = np.unique(Z, return_counts=True)\n",
    "    N = len(Q)\n",
    "    q_clusters = len(n_Q)\n",
    "    z_clusters = len(n_Z)\n",
    "    n = np.zeros((z_clusters,q_clusters),dtype='int32')\n",
    "\n",
    "    for i in range(N):\n",
    "        Q_idx = Q[i]-1\n",
    "        Z_idx = Z[i]-1\n",
    "        if Q[i]==Z[i]: # same cluster\n",
    "            n[Q_idx,Q_idx] += 1\n",
    "        else:          # diff cluster\n",
    "            n[Z_idx,Q_idx] += 1\n",
    "\n",
    "    S = 0\n",
    "    for i in range(z_clusters):\n",
    "        for j in range(q_clusters):\n",
    "            S += n[i,j]*(n[i,j]-1)/2\n",
    "\n",
    "    sum_term_z = 0\n",
    "    for i in range(z_clusters):\n",
    "        sum_term_z += n_Z[i]*(n_Z[i]-1)/2\n",
    "\n",
    "    sum_term_q = 0\n",
    "    for i in range(q_clusters):\n",
    "        sum_term_q += n_Q[i]*(n_Q[i]-1)/2\n",
    "\n",
    "    D = N*(N-1)/2 - sum_term_q - sum_term_z + S\n",
    "\n",
    "    jaccard = S/(0.5*N*(N-1)-D)\n",
    "    rand = (S+D)/(0.5*N*(N-1))\n",
    "\n",
    "    print(f'n: \\n{n}')\n",
    "    print(f'n_Q: {n_Q}')\n",
    "    print(f'n_Z: {n_Z}\\n')\n",
    "    print(f'S: {S}')\n",
    "    print(f'D: {D}')\n",
    "    print(f'jaccard similarity: {jaccard:.4f}')\n",
    "    print(f'rand index: {rand:.4f}')"
   ]
  },
  {
   "cell_type": "code",
   "execution_count": 20,
   "id": "0d792a6c",
   "metadata": {},
   "outputs": [
    {
     "name": "stdout",
     "output_type": "stream",
     "text": [
      "Q: [0, 0, 0, 0, 1, 0, 0, 0, 0, 2]\n",
      "Z: [0, 0, 0, 0, 1, 1, 1, 1, 1, 1]\n",
      "\n",
      "n: \n",
      "[[1 1 4]\n",
      " [0 0 4]]\n",
      "n_Q: [8 1 1]\n",
      "n_Z: [4 6]\n",
      "\n",
      "S: 12.0\n",
      "D: 8.0\n",
      "jaccard similarity: 0.3243\n",
      "rand index: 0.4444\n"
     ]
    }
   ],
   "source": [
    "## Q7\n",
    "Q = '0 0 0 0 1 0 0 0 0 2'    # dendogram\n",
    "Z = '0 0 0 0 1 1 1 1 1 1'    # ground truth\n",
    "compute_similarity(Z,Q)"
   ]
  },
  {
   "cell_type": "code",
   "execution_count": 21,
   "id": "ce4fccb4",
   "metadata": {},
   "outputs": [
    {
     "name": "stdout",
     "output_type": "stream",
     "text": [
      "Q: [1, 1, 1, 1, 1, 1, 1, 1, 1, 1]\n",
      "Z: [0, 0, 0, 0, 1, 1, 1, 1, 1, 1]\n",
      "\n",
      "n: \n",
      "[[6]\n",
      " [4]]\n",
      "n_Q: [10]\n",
      "n_Z: [4 6]\n",
      "\n",
      "S: 21.0\n",
      "D: 0.0\n",
      "jaccard similarity: 0.4667\n",
      "rand index: 0.4667\n"
     ]
    }
   ],
   "source": [
    "## Q8\n",
    "Q = '1 1 1 1 1 1 1 1 1 1'    # alternative\n",
    "Z = '0 0 0 0 1 1 1 1 1 1'    # ground truth\n",
    "compute_similarity(Z,Q)"
   ]
  },
  {
   "cell_type": "code",
   "execution_count": 143,
   "id": "cb310a4f",
   "metadata": {},
   "outputs": [
    {
     "name": "stdout",
     "output_type": "stream",
     "text": [
      "centroids:  3.5 11.0\n"
     ]
    },
    {
     "data": {
      "text/plain": [
       "18.5"
      ]
     },
     "execution_count": 143,
     "metadata": {},
     "output_type": "execute_result"
    }
   ],
   "source": [
    "## Q9\n",
    "mu1 = (2+5)/2\n",
    "mu2 = (8+12+13)/3\n",
    "print(\"centroids: \", mu1,mu2)\n",
    "\n",
    "x = [2,5,8,12,13]\n",
    "dist = [2-mu1,5-mu1,8-mu2,12-mu2,13-mu2]\n",
    "total_cost = np.array([i**2 for i in dist]).sum()\n",
    "total_cost"
   ]
  },
  {
   "cell_type": "code",
   "execution_count": 33,
   "id": "e88b231e",
   "metadata": {},
   "outputs": [
    {
     "name": "stdout",
     "output_type": "stream",
     "text": [
      "0.53 0.4700000000000001\n"
     ]
    },
    {
     "data": {
      "text/plain": [
       "0.36"
      ]
     },
     "execution_count": 33,
     "metadata": {},
     "output_type": "execute_result"
    }
   ],
   "source": [
    "## Q10 unsure\n",
    "p_machine = 0.18+0.17+0.08+0.1\n",
    "p_natural = 0.08+0.07+0.16+0.16\n",
    "print(p_machine,p_natural)\n",
    "\n",
    "num = (0.08+0.1)\n",
    "denom = num + (0.16+0.16)\n",
    "prob = num/denom\n",
    "prob"
   ]
  },
  {
   "cell_type": "code",
   "execution_count": 34,
   "id": "c1cfa09b",
   "metadata": {},
   "outputs": [
    {
     "data": {
      "text/plain": [
       "12"
      ]
     },
     "execution_count": 34,
     "metadata": {},
     "output_type": "execute_result"
    }
   ],
   "source": [
    "## Q11\n",
    "C = 2\n",
    "M = 6\n",
    "n_evaluations = C*M\n",
    "n_evaluations"
   ]
  },
  {
   "cell_type": "raw",
   "id": "5812d38d",
   "metadata": {},
   "source": [
    "## Q12\n",
    "Model B is better than Model A\n",
    "Model C is worse than Model A\n",
    "Thus, theta_hat_AB = -theta_hat_AC\n",
    "\n",
    "p = 2*scipy.stats.binom.cdf(min([n12,n21]), n=n12+n21, p=0.5)\n",
    "min([n12,n21]) is the same for both comparisons"
   ]
  },
  {
   "cell_type": "code",
   "execution_count": 35,
   "id": "e5b3fa36",
   "metadata": {},
   "outputs": [
    {
     "data": {
      "text/plain": [
       "2460"
      ]
     },
     "execution_count": 35,
     "metadata": {},
     "output_type": "execute_result"
    }
   ],
   "source": [
    "## Q17\n",
    "M = 8\n",
    "K1 = 3\n",
    "K2 = 5\n",
    "n_models = K1*(K2*M+1)\n",
    "time = n_models*20\n",
    "time"
   ]
  },
  {
   "cell_type": "code",
   "execution_count": 81,
   "id": "645dddca",
   "metadata": {
    "scrolled": true
   },
   "outputs": [
    {
     "name": "stdout",
     "output_type": "stream",
     "text": [
      "[[-0.5012883  -0.77659331]\n",
      " [ 0.39100487 -0.9298302 ]\n",
      " [ 1.19306614  1.04863184]\n",
      " [-1.08278272  0.65779167]]\n"
     ]
    },
    {
     "data": {
      "text/plain": [
       "0.2025476069857263"
      ]
     },
     "execution_count": 81,
     "metadata": {},
     "output_type": "execute_result"
    }
   ],
   "source": [
    "## Q19\n",
    "w0 = 0\n",
    "w = np.array([0.39,0.77]).reshape(-1,1)\n",
    "l = 0.25\n",
    "y_true = np.array([-0.86,-0.61,1.37,0.1]).reshape(-1,1)\n",
    "x = np.array([-0.5,0.39,1.19,-1.08]).reshape(-1,1)\n",
    "\n",
    "# Add feature transformation\n",
    "# sinx = np.sin(x).reshape(-1,1)\n",
    "# x = np.concatenate((x,sinx),1)\n",
    "x2 = x**2\n",
    "x = np.concatenate((x,x2),1)\n",
    "\n",
    "# Standardize\n",
    "std = np.std(x, ddof = 1,axis=0)\n",
    "mu = np.mean(x, axis=0)\n",
    "x = (x-mu)/std\n",
    "\n",
    "# Get predictions\n",
    "y_hat = w0 + x @ w\n",
    "temp = y_true-y_hat\n",
    "E = (temp.T@temp).sum() +  l*np.linalg.norm(w, ord=2)**2\n",
    "E "
   ]
  },
  {
   "cell_type": "code",
   "execution_count": 144,
   "id": "7722d779",
   "metadata": {},
   "outputs": [
    {
     "name": "stdout",
     "output_type": "stream",
     "text": [
      "0.2962962962962963 0.8620689655172413\n",
      "0.14814814814814814 0.4827586206896552\n"
     ]
    }
   ],
   "source": [
    "## Q21\n",
    "# theta = 0.5,0.7\n",
    "TP = [125,70]\n",
    "TN = [95,115]\n",
    "FN = [20,75]\n",
    "FP = [40,20]\n",
    "\n",
    "for i in range(len(TP)):\n",
    "    TPR = TP[i]/(TP[i]+FN[i])\n",
    "    FPR = FP[i]/(TN[i]+FP[i])\n",
    "    print(FPR,TPR)"
   ]
  },
  {
   "cell_type": "code",
   "execution_count": 89,
   "id": "99bf0ecd",
   "metadata": {},
   "outputs": [
    {
     "name": "stdout",
     "output_type": "stream",
     "text": [
      "0.1 0.14814814814814814 0.16666666666666666 0.1875\n"
     ]
    },
    {
     "data": {
      "text/plain": [
       "0.1875"
      ]
     },
     "execution_count": 89,
     "metadata": {},
     "output_type": "execute_result"
    }
   ],
   "source": [
    "## Q22\n",
    "supp_X = 3/5\n",
    "supp_Y = 8/15\n",
    "conf_XY = 1/6\n",
    "print(1/10,4/27,1/6,3/16)\n",
    "\n",
    "supp_XY = conf_XY*supp_X\n",
    "conf_YX = supp_XY/supp_Y\n",
    "conf_YX"
   ]
  },
  {
   "cell_type": "code",
   "execution_count": null,
   "id": "66bfb020",
   "metadata": {},
   "outputs": [],
   "source": [
    "## Q23 unsure"
   ]
  },
  {
   "cell_type": "code",
   "execution_count": 92,
   "id": "ba330415",
   "metadata": {},
   "outputs": [
    {
     "data": {
      "text/plain": [
       "0.42364893019360184"
      ]
     },
     "execution_count": 92,
     "metadata": {},
     "output_type": "execute_result"
    }
   ],
   "source": [
    "## Q24\n",
    "e = 3/10\n",
    "a = 0.5*np.log((1-e)/e)\n",
    "a"
   ]
  },
  {
   "cell_type": "code",
   "execution_count": 113,
   "id": "0503c30f",
   "metadata": {
    "scrolled": false
   },
   "outputs": [
    {
     "data": {
      "image/png": "[encoded data removed]",
      "text/plain": [
       "<Figure size 640x480 with 1 Axes>"
      ]
     },
     "metadata": {},
     "output_type": "display_data"
    }
   ],
   "source": [
    "## Q25\n",
    "v1 = np.array([-.3,-1.0])\n",
    "v2 = np.array([-1.0,0.3])\n",
    "\n",
    "v3 = np.array([0.7,0.7])\n",
    "# np.linalg.norm(v3, ord=2)**2\n",
    "\n",
    "plt.plot([0,-0.3],[0,-1])\n",
    "plt.plot([0,-1],[0,0.3])\n",
    "plt.plot(np.linspace(-20,20,10))\n",
    "plt.axis('equal')\n",
    "plt.grid()\n",
    "plt.show()"
   ]
  },
  {
   "cell_type": "code",
   "execution_count": 145,
   "id": "a4927bd0",
   "metadata": {},
   "outputs": [
    {
     "data": {
      "text/plain": [
       "16"
      ]
     },
     "execution_count": 145,
     "metadata": {},
     "output_type": "execute_result"
    }
   ],
   "source": [
    "## Q26\n",
    "1+6+5+4"
   ]
  },
  {
   "cell_type": "code",
   "execution_count": 140,
   "id": "5c9bc67d",
   "metadata": {},
   "outputs": [
    {
     "name": "stdout",
     "output_type": "stream",
     "text": [
      "\n",
      "lambda: 0.15\n",
      "[-14.657187951100958, -14.657187951100958, -138.60385461776764]\n",
      "\n",
      "lambda: 0.21\n",
      "[-7.675020731939858, -7.675020731939858, -70.9131159700351]\n",
      "\n",
      "lambda: 0.49\n",
      "[-2.298985721327932, -2.298976693629939, -13.914097786306913]\n",
      "\n",
      "lambda: 1.15\n",
      "[-1.9862805290540033, -1.891492728304507, -3.9624292572123108]\n"
     ]
    }
   ],
   "source": [
    "## Q27\n",
    "x = [-0.82,0,2.5]\n",
    "N = len(x)\n",
    "l = [0.15,0.21,0.49,1.15]\n",
    "\n",
    "L_lambda = []\n",
    "for k in range(len(l)):  # for each lambda value\n",
    "    print(f'\\nlambda: {l[k]}')\n",
    "    Li_values = []\n",
    "    for i in range(N):  # for each x value\n",
    "        kde = 0\n",
    "        for j in range(N): # find i!=j, add the KDE\n",
    "            if j!=i:\n",
    "                kde += norm.pdf(x[i], x[j], l[k])\n",
    "        temp = 1/(N-1)*(kde)\n",
    "        Li = np.log(temp)\n",
    "        Li_values.append(Li)\n",
    "    print(Li_values)"
   ]
  }
 ],
 "metadata": {
  "kernelspec": {
   "display_name": "course02450",
   "language": "python",
   "name": "course02450"
  },
  "language_info": {
   "codemirror_mode": {
    "name": "ipython",
    "version": 3
   },
   "file_extension": ".py",
   "mimetype": "text/x-python",
   "name": "python",
   "nbconvert_exporter": "python",
   "pygments_lexer": "ipython3",
   "version": "3.9.16"
  }
 },
 "nbformat": 4,
 "nbformat_minor": 5
}
