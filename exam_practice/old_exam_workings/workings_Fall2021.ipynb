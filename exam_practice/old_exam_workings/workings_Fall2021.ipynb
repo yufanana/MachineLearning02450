{
 "cells": [
  {
   "cell_type": "code",
   "execution_count": 1,
   "id": "aeea56f3",
   "metadata": {},
   "outputs": [],
   "source": [
    "import numpy as np\n",
    "import matplotlib.pyplot as plt"
   ]
  },
  {
   "cell_type": "code",
   "execution_count": 2,
   "id": "e1419de3",
   "metadata": {},
   "outputs": [
    {
     "data": {
      "text/plain": [
       "0.029850746268656716"
      ]
     },
     "execution_count": 2,
     "metadata": {},
     "output_type": "execute_result"
    }
   ],
   "source": [
    "## Q8\n",
    "3/(24.2+38.5+37.8)"
   ]
  },
  {
   "cell_type": "code",
   "execution_count": 3,
   "id": "34401b8e",
   "metadata": {},
   "outputs": [
    {
     "data": {
      "text/plain": [
       "0.6245613861283321"
      ]
     },
     "execution_count": 3,
     "metadata": {},
     "output_type": "execute_result"
    }
   ],
   "source": [
    "## Q9\n",
    "l = 20\n",
    "np.exp(-24.2**2/(2*l**2))+np.exp(-39.4**2/(2*l**2))"
   ]
  },
  {
   "cell_type": "code",
   "execution_count": 4,
   "id": "bd467aa7",
   "metadata": {},
   "outputs": [
    {
     "data": {
      "text/plain": [
       "0.40824829046386296"
      ]
     },
     "execution_count": 4,
     "metadata": {},
     "output_type": "execute_result"
    }
   ],
   "source": [
    "## Q11\n",
    "f11 = 1\n",
    "f11/(np.sqrt(2)*np.sqrt(3))"
   ]
  },
  {
   "cell_type": "code",
   "execution_count": 5,
   "id": "5cecada5",
   "metadata": {},
   "outputs": [
    {
     "data": {
      "text/plain": [
       "0.24022038567493123"
      ]
     },
     "execution_count": 5,
     "metadata": {},
     "output_type": "execute_result"
    }
   ],
   "source": [
    "## Q12\n",
    "Ir = 1 - ((2/11)**2 + (5/11)**2 + (4/11)**2)\n",
    "Iv1 = 1 - ((2/6)**2 + (4/6)**2)\n",
    "Iv2 = 1 - ((1/5)**2 + (4/5)**2)\n",
    "pg = Ir - (6/11)*Iv1 - (5/11)*Iv2\n",
    "pg"
   ]
  },
  {
   "cell_type": "code",
   "execution_count": 6,
   "id": "0c45d670",
   "metadata": {},
   "outputs": [
    {
     "name": "stdout",
     "output_type": "stream",
     "text": [
      "0.07493112947658402\n",
      "0.24022038567493112\n",
      "0.2727272727272727\n",
      "0.7597796143250689\n"
     ]
    }
   ],
   "source": [
    "print(136/1815)\n",
    "print(436/1815)\n",
    "print(3/11)\n",
    "print(1379/1815)"
   ]
  },
  {
   "cell_type": "code",
   "execution_count": 7,
   "id": "091b4716",
   "metadata": {},
   "outputs": [
    {
     "data": {
      "text/plain": [
       "0.7132281110308527"
      ]
     },
     "execution_count": 7,
     "metadata": {},
     "output_type": "execute_result"
    }
   ],
   "source": [
    "## Q15\n",
    "mu11 = (38+26.8)/2\n",
    "mu12 = (15.1+12.8)/2\n",
    "var = 400\n",
    "x1 = 32\n",
    "x2 = 14\n",
    "\n",
    "p1 = 1/np.sqrt((2*np.pi*var))*np.exp(-(x1-mu11)**2/(2*var))\n",
    "p2 = 1/np.sqrt((2*np.pi*var))*np.exp(-(x2-mu12)**2/(2*var))\n",
    "pC1 = 2/11\n",
    "\n",
    "nb = p1*p2*pC1/0.00010141\n",
    "nb"
   ]
  },
  {
   "cell_type": "code",
   "execution_count": 8,
   "id": "45304e50",
   "metadata": {},
   "outputs": [
    {
     "data": {
      "text/plain": [
       "909"
      ]
     },
     "execution_count": 8,
     "metadata": {},
     "output_type": "execute_result"
    }
   ],
   "source": [
    "## Q17\n",
    "(8+1)*50 + 50*9 + 9"
   ]
  },
  {
   "cell_type": "code",
   "execution_count": 9,
   "id": "207a738e",
   "metadata": {
    "scrolled": true
   },
   "outputs": [
    {
     "data": {
      "text/plain": [
       "0.6666666666666666"
      ]
     },
     "execution_count": 9,
     "metadata": {},
     "output_type": "execute_result"
    }
   ],
   "source": [
    "## Q19\n",
    "acc = 3/4\n",
    "e = 1-acc\n",
    "alpha = 0.5*np.log((1-e)/e)\n",
    "alpha\n",
    "\n",
    "N = 572\n",
    "\n",
    "w = np.exp(-alpha)/(acc*np.exp(-alpha)+e*np.exp(alpha))\n",
    "w"
   ]
  },
  {
   "cell_type": "code",
   "execution_count": 10,
   "id": "0a24ebb6",
   "metadata": {},
   "outputs": [
    {
     "name": "stdout",
     "output_type": "stream",
     "text": [
      "0.5773502691896257\n",
      "0.5773502691896257\n"
     ]
    }
   ],
   "source": [
    "print(np.sqrt(3)/3) \n",
    "print(np.exp(-alpha))"
   ]
  },
  {
   "cell_type": "code",
   "execution_count": 11,
   "id": "b5620f4b",
   "metadata": {},
   "outputs": [
    {
     "data": {
      "text/plain": [
       "0.5493061443340549"
      ]
     },
     "execution_count": 11,
     "metadata": {},
     "output_type": "execute_result"
    }
   ],
   "source": [
    "alpha"
   ]
  },
  {
   "cell_type": "code",
   "execution_count": 12,
   "id": "d910cb96",
   "metadata": {},
   "outputs": [
    {
     "name": "stdout",
     "output_type": "stream",
     "text": [
      "[[ 6.1232340e-17  1.0000000e+00]\n",
      " [-1.0000000e+00  1.2246468e-16]\n",
      " [-1.8369702e-16 -1.0000000e+00]\n",
      " [ 1.0000000e+00 -2.4492936e-16]]\n",
      "w: [1.  1.5]\n"
     ]
    }
   ],
   "source": [
    "## Q21\n",
    "x = np.array([1,2,3,4])\n",
    "phi = np.zeros((4,2))\n",
    "x.shape\n",
    "\n",
    "for i in range(x.shape[0]):\n",
    "    phi[i,0] = np.cos(np.pi/2*x[i])\n",
    "    phi[i,1] = np.sin(np.pi/2*x[i])\n",
    "print(phi)\n",
    "\n",
    "X = np.array([[0,1],[-1,0],[0,-1],[1,0]])\n",
    "y = np.array([6,2,3,4])\n",
    "temp = np.linalg.inv(X.T@X)\n",
    "print(f'w: {temp@X.T@y}')"
   ]
  },
  {
   "cell_type": "code",
   "execution_count": 13,
   "id": "8fd12d26",
   "metadata": {},
   "outputs": [
    {
     "data": {
      "text/plain": [
       "0.3779644730092272"
      ]
     },
     "execution_count": 13,
     "metadata": {},
     "output_type": "execute_result"
    }
   ],
   "source": [
    "z = np.array([1,3,3,1,2,3,1])\n",
    "np.sqrt((z-2).T@(z-2)/(7*6))"
   ]
  },
  {
   "cell_type": "code",
   "execution_count": 14,
   "id": "e14b1eb1",
   "metadata": {},
   "outputs": [
    {
     "name": "stdout",
     "output_type": "stream",
     "text": [
      "2.0000000000000044\n"
     ]
    }
   ],
   "source": [
    "## Q22\n",
    "x = np.array([1,2,3,4])\n",
    "mean = x.mean()\n",
    "std = x.std(ddof=1)    # IMPT!! ddof = 1\n",
    "# std = np.sqrt(1/(N-1) * np.sum(np.power(xi-mu,2)))  \n",
    "x = (x-mean)/std\n",
    "\n",
    "y = np.array([6,2,3,4])\n",
    "E = 8\n",
    "w = np.array([15/4, -np.sqrt(3/20)])\n",
    "\n",
    "temp =  y-w[0]*1-x*w[1]\n",
    "print((E - temp@temp.T)/w[1]**2)"
   ]
  },
  {
   "cell_type": "code",
   "execution_count": 15,
   "id": "bb272db6",
   "metadata": {},
   "outputs": [
    {
     "name": "stdout",
     "output_type": "stream",
     "text": [
      "7.699999999999999\n",
      "7.699999999999998\n"
     ]
    }
   ],
   "source": [
    "# Equivalent expressions for ||x||^2\n",
    "A = y-w[0]*1-x*w[1]\n",
    "print(A@A.T)\n",
    "\n",
    "A = y-w[0]*1-x*w[1]\n",
    "print(np.linalg.norm(A)**2)"
   ]
  },
  {
   "cell_type": "code",
   "execution_count": 16,
   "id": "3b9cfa01",
   "metadata": {},
   "outputs": [
    {
     "data": {
      "text/plain": [
       "array([[2.]])"
      ]
     },
     "execution_count": 16,
     "metadata": {},
     "output_type": "execute_result"
    }
   ],
   "source": [
    "## Q22 Rolando\n",
    "xi= np.array([1,2,3,4])\n",
    "N = np.size(xi)\n",
    "mu = np.mean(xi)\n",
    "# s = np.sqrt(1/(N-1) * np.sum(np.power(xi-mu,2))) \n",
    "s = np.std(xi, ddof = 1)\n",
    "xhat = (xi - mu) / s\n",
    "\n",
    "yi= np.reshape(np.array([6,2,3,4]), (-1,1))\n",
    "xi= np.reshape(xhat, (-1,1))\n",
    "\n",
    "w = -(np.sqrt(3/20))\n",
    "w0= 15/4\n",
    "E=8\n",
    "\n",
    "dd = yi - w0 - xi*w\n",
    "lp = E - np.dot(dd.T,dd)\n",
    "lp/np.power(w,2)"
   ]
  },
  {
   "cell_type": "code",
   "execution_count": 17,
   "id": "680f2c42",
   "metadata": {},
   "outputs": [
    {
     "name": "stdout",
     "output_type": "stream",
     "text": [
      "K: 7, t:145984\n",
      "K: 8, t:169095\n",
      "K: 9, t:192215\n",
      "K: 10, t:215339\n"
     ]
    }
   ],
   "source": [
    "## Q25\n",
    "from math import log\n",
    "\n",
    "K = [7,8,9,10]\n",
    "\n",
    "t0 = 800*log(800,2) + 200\n",
    "L = 3\n",
    "for k in K:\n",
    "    ni = 800*(k-1)/k\n",
    "    mi = 800/k\n",
    "    t1 = L*k*(ni*log(ni,2)+mi)\n",
    "    t = t0 + t1\n",
    "    print(f'K: {k}, t:{t:.0f}')"
   ]
  }
 ],
 "metadata": {
  "kernelspec": {
   "display_name": "course02450",
   "language": "python",
   "name": "course02450"
  },
  "language_info": {
   "codemirror_mode": {
    "name": "ipython",
    "version": 3
   },
   "file_extension": ".py",
   "mimetype": "text/x-python",
   "name": "python",
   "nbconvert_exporter": "python",
   "pygments_lexer": "ipython3",
   "version": "3.9.16"
  }
 },
 "nbformat": 4,
 "nbformat_minor": 5
}
