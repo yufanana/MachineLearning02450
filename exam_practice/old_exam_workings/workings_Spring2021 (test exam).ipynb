{
 "cells": [
  {
   "cell_type": "code",
   "execution_count": 3,
   "id": "aeea56f3",
   "metadata": {},
   "outputs": [],
   "source": [
    "import numpy as np"
   ]
  },
  {
   "cell_type": "markdown",
   "id": "5b9aa834",
   "metadata": {},
   "source": [
    "## Comparing similarity of partitions"
   ]
  },
  {
   "cell_type": "code",
   "execution_count": 4,
   "id": "bfbdffd3",
   "metadata": {},
   "outputs": [
    {
     "name": "stdout",
     "output_type": "stream",
     "text": [
      "Q: [4, 4, 1, 1, 2, 2, 2, 3, 3]\n",
      "Z: [1, 1, 1, 1, 2, 2, 3, 3, 3]\n",
      "\n",
      "n: \n",
      "[[2 0 0 2]\n",
      " [0 2 0 0]\n",
      " [0 1 2 0]]\n",
      "n_Q: [2 3 2 2]\n",
      "n_Z: [4 2 3]\n",
      "\n",
      "S: 4.0\n",
      "D: 24.0\n",
      "jaccard similarity: 0.3333\n",
      "rand index: 0.7778\n"
     ]
    }
   ],
   "source": [
    "\"\"\"\n",
    "Input: labels of clusters in set Z and Q, \n",
    "\n",
    "Output: Jaccard similarity and Rand index.\n",
    "\"\"\"\n",
    "Z = '1 1 1 1 2 2 3 3 3'\n",
    "Q = '4 4 1 1 2 2 2 3 3'\n",
    "\n",
    "# Q = '1 1 3 1 1 1 1 3 3 2'\n",
    "# Z = '1 1 2 2 2 3 3 3 3 3'\n",
    "\n",
    "Q = list(map(int,Q.split(\" \")))\n",
    "Z = list(map(int,Z.split(\" \")))\n",
    "\n",
    "print(f'Q: {Q}')\n",
    "print(f'Z: {Z}\\n')\n",
    "\n",
    "_,n_Q = np.unique(Q, return_counts=True)\n",
    "_,n_Z = np.unique(Z, return_counts=True)\n",
    "N = len(Q)\n",
    "q_clusters = len(n_Q)\n",
    "z_clusters = len(n_Z)\n",
    "n = np.zeros((z_clusters,q_clusters),dtype='int32')\n",
    "\n",
    "for i in range(N):\n",
    "    Q_idx = Q[i]-1\n",
    "    Z_idx = Z[i]-1\n",
    "    if Q[i]==Z[i]: # same cluster\n",
    "        n[Q_idx,Q_idx] += 1\n",
    "    else:          # diff cluster\n",
    "        n[Z_idx,Q_idx] += 1\n",
    "\n",
    "S = 0\n",
    "for i in range(z_clusters):\n",
    "    for j in range(q_clusters):\n",
    "        S += n[i,j]*(n[i,j]-1)/2\n",
    "\n",
    "sum_term_z = 0\n",
    "for i in range(z_clusters):\n",
    "    sum_term_z += n_Z[i]*(n_Z[i]-1)/2\n",
    "\n",
    "sum_term_q = 0\n",
    "for i in range(q_clusters):\n",
    "    sum_term_q += n_Q[i]*(n_Q[i]-1)/2\n",
    "    \n",
    "D = N*(N-1)/2 - sum_term_q - sum_term_z + S\n",
    "\n",
    "jaccard = S/(0.5*N*(N-1)-D)\n",
    "rand = (S+D)/(0.5*N*(N-1))\n",
    "\n",
    "print(f'n: \\n{n}')\n",
    "print(f'n_Q: {n_Q}')\n",
    "print(f'n_Z: {n_Z}\\n')\n",
    "print(f'S: {S}')\n",
    "print(f'D: {D}')\n",
    "print(f'jaccard similarity: {jaccard:.4f}')\n",
    "print(f'rand index: {rand:.4f}')"
   ]
  },
  {
   "cell_type": "markdown",
   "id": "b699f78f",
   "metadata": {},
   "source": [
    "## toolbox_02450 `clusterval`"
   ]
  },
  {
   "cell_type": "code",
   "execution_count": 5,
   "id": "94c5a9e0",
   "metadata": {},
   "outputs": [],
   "source": [
    "import sklearn.metrics.cluster as cluster_metrics\n",
    "\n",
    "def clusterval(y, clusterid):\n",
    "    '''\n",
    "    CLUSTERVAL Estimate cluster validity using Entropy, Purity, Rand Statistic,\n",
    "    and Jaccard coefficient.\n",
    "    \n",
    "    Usage:\n",
    "      Entropy, Purity, Rand, Jaccard = clusterval(y, clusterid);\n",
    "    \n",
    "    Input:\n",
    "       y         N-by-1 vector of class labels \n",
    "       clusterid N-by-1 vector of cluster indices\n",
    "    \n",
    "    Output:\n",
    "      Entropy    Entropy measure.\n",
    "      Purity     Purity measure.\n",
    "      Rand       Rand index.\n",
    "      Jaccard    Jaccard coefficient.\n",
    "    '''\n",
    "    NMI = cluster_metrics.normalized_mutual_info_score(y,clusterid)\n",
    "    \n",
    "    #y = np.asarray(y).ravel(); clusterid = np.asarray(clusterid).ravel()\n",
    "    C = np.unique(y).size; K = np.unique(clusterid).size; N = y.shape[0]\n",
    "    EPS = 2.22e-16\n",
    "    \n",
    "    p_ij = np.zeros((K,C))          # probability that member of i'th cluster belongs to j'th class\n",
    "    m_i = np.zeros((K,1))           # total number of objects in i'th cluster\n",
    "    for k in range(K):\n",
    "        m_i[k] = (clusterid==k).sum()\n",
    "        yk = y[clusterid==k]\n",
    "        for c in range(C):\n",
    "            m_ij = (yk==c).sum()    # number of objects of j'th class in i'th cluster\n",
    "            p_ij[k,c] = m_ij.astype(float)/m_i[k]\n",
    "    entropy = ( (1-(p_ij*np.log2(p_ij+EPS)).sum(axis=1))*m_i.T ).sum() / (N*K) \n",
    "    purity = ( p_ij.max(axis=1) ).sum() / K\n",
    "\n",
    "    f00=0; f01=0; f10=0; f11=0\n",
    "    for i in range(N):\n",
    "        for j in range(i):\n",
    "            if y[i]!=y[j] and clusterid[i]!=clusterid[j]: f00 += 1;     # different class, different cluster    \n",
    "            elif y[i]==y[j] and clusterid[i]==clusterid[j]: f11 += 1;   # same class, same cluster\n",
    "            elif y[i]==y[j] and clusterid[i]!=clusterid[j]: f10 += 1;   # same class, different cluster    \n",
    "            else: f01 +=1;                                              # different class, same cluster\n",
    "    rand = float(f00+f11)/(f00+f01+f10+f11)\n",
    "    jaccard = float(f11)/(f01+f10+f11)\n",
    "\n",
    "    return rand, jaccard, NMI"
   ]
  },
  {
   "cell_type": "markdown",
   "id": "afeb7f09",
   "metadata": {},
   "source": [
    "## Spring 2021"
   ]
  },
  {
   "cell_type": "code",
   "execution_count": 6,
   "id": "196bbf44",
   "metadata": {},
   "outputs": [
    {
     "data": {
      "text/plain": [
       "array([ 2.6,  1. , -0.3,  1.2,  1.2])"
      ]
     },
     "execution_count": 6,
     "metadata": {},
     "output_type": "execute_result"
    }
   ],
   "source": [
    "x = np.array([15.5, 59.2, 1.4, 1438, 5.3])\n",
    "mu = np.array([12.9, 58.2, 1.7, 1436.8, 4.1])\n",
    "x.shape\n",
    "x_til = x-mu\n",
    "x_til\n"
   ]
  },
  {
   "cell_type": "code",
   "execution_count": 7,
   "id": "2947a7d4",
   "metadata": {},
   "outputs": [
    {
     "name": "stdout",
     "output_type": "stream",
     "text": [
      "[ 3.000e-03 -2.706e+00  1.000e-03  4.200e-02  1.700e-02]\n",
      "[ 3.000e-03 -2.706e+00  1.000e-03  4.200e-02  1.700e-02]\n"
     ]
    }
   ],
   "source": [
    "V = np.array([[0.11, -0.58, 0.3, -0.17, -0.48],\n",
    "              [-0.58, -0.31, 0.01, -0.5, 0.56],\n",
    "              [0.49, 0.08, -0.49, -0.72 ,-0.07],\n",
    "              [0.6, -0.36, 0.04, 0.27 ,0.66],\n",
    "              [-0.23, -0.36, -0.82 ,0.37 ,-0.09]])\n",
    "print(x_til.T@V)\n",
    "print(np.matmul(x_til.T,V))"
   ]
  },
  {
   "cell_type": "markdown",
   "id": "eee47702",
   "metadata": {},
   "source": [
    "## Q2"
   ]
  },
  {
   "cell_type": "code",
   "execution_count": 8,
   "id": "a1db817f",
   "metadata": {},
   "outputs": [
    {
     "data": {
      "text/plain": [
       "array([ 829.636, -546.818,   57.73 ,  356.978,  974.217])"
      ]
     },
     "execution_count": 8,
     "metadata": {},
     "output_type": "execute_result"
    }
   ],
   "source": [
    "x.T@V"
   ]
  },
  {
   "cell_type": "code",
   "execution_count": 9,
   "id": "ebc09598",
   "metadata": {},
   "outputs": [],
   "source": [
    "v1 = np.array([0.11, -0.58, 0.49, 0.6, -0.23])"
   ]
  },
  {
   "cell_type": "code",
   "execution_count": 10,
   "id": "df113868",
   "metadata": {},
   "outputs": [
    {
     "data": {
      "text/plain": [
       "array([ 1.0015e+00,  2.2000e-02, -3.0000e-04, -4.6000e-03,  4.8000e-03])"
      ]
     },
     "execution_count": 10,
     "metadata": {},
     "output_type": "execute_result"
    }
   ],
   "source": [
    "V.T@v1"
   ]
  },
  {
   "cell_type": "markdown",
   "id": "0c5470af",
   "metadata": {},
   "source": [
    "## Q4"
   ]
  },
  {
   "cell_type": "code",
   "execution_count": 11,
   "id": "1f856aa8",
   "metadata": {},
   "outputs": [
    {
     "name": "stdout",
     "output_type": "stream",
     "text": [
      "[  14.756   59.192    1.444 1437.952    5.252]\n",
      "[  12.204   57.828    1.796 1436.368    3.668]\n",
      "[  12.03    57.735    1.82  1436.26     3.56 ]\n",
      "[  13.828   58.696    1.572 1437.376    4.676]\n"
     ]
    }
   ],
   "source": [
    "b_a = np.array([0, -3.2, 0, 0, 0]).T\n",
    "b_b = np.array([0, 1.2, 0, 0, 0]).T\n",
    "b_c = np.array([0, 1.5, 0, 0, 0]).T\n",
    "b_d = np.array([0, -1.6, 0, 0, 0]).T\n",
    "\n",
    "print(V@b_a + mu)\n",
    "print(V@b_b + mu)\n",
    "print(V@b_c + mu)\n",
    "print(V@b_d + mu)"
   ]
  },
  {
   "cell_type": "markdown",
   "id": "641cbfe7",
   "metadata": {},
   "source": [
    "## Q5"
   ]
  },
  {
   "cell_type": "code",
   "execution_count": 12,
   "id": "338d9bc7",
   "metadata": {},
   "outputs": [
    {
     "data": {
      "text/plain": [
       "2.6457513110645907"
      ]
     },
     "execution_count": 12,
     "metadata": {},
     "output_type": "execute_result"
    }
   ],
   "source": [
    "np.sqrt(7)"
   ]
  },
  {
   "cell_type": "code",
   "execution_count": 22,
   "id": "275294f0",
   "metadata": {},
   "outputs": [
    {
     "data": {
      "text/plain": [
       "-0.3436164855716712"
      ]
     },
     "execution_count": 22,
     "metadata": {},
     "output_type": "execute_result"
    }
   ],
   "source": [
    "-7/(np.sqrt(415)*np.sqrt(1))"
   ]
  },
  {
   "cell_type": "markdown",
   "id": "05e03865",
   "metadata": {},
   "source": [
    "## Q7"
   ]
  },
  {
   "cell_type": "code",
   "execution_count": 14,
   "id": "4da37f96",
   "metadata": {},
   "outputs": [
    {
     "name": "stdout",
     "output_type": "stream",
     "text": [
      "density_3: 0.18867924528301885\n",
      "ard: 0.6979857215706273\n"
     ]
    }
   ],
   "source": [
    "K=2\n",
    "density_3 = K/(5.4+5.2)\n",
    "density_2 = K/(4.0+3.5)\n",
    "density_4 = K/(4.0+3.3)\n",
    "print(f'density_3: {density_3}')\n",
    "\n",
    "ard = K*density_3/(density_2 + density_4)\n",
    "print(f'ard: {ard}')"
   ]
  },
  {
   "cell_type": "markdown",
   "id": "b2610d31",
   "metadata": {},
   "source": [
    "## Q11"
   ]
  },
  {
   "cell_type": "code",
   "execution_count": 15,
   "id": "a6d59c62",
   "metadata": {},
   "outputs": [
    {
     "data": {
      "text/plain": [
       "0.2791456541085731"
      ]
     },
     "execution_count": 15,
     "metadata": {},
     "output_type": "execute_result"
    }
   ],
   "source": [
    "n_high_hum = (3285-1327)+(2190-1718)+(3285-2344)\n",
    "n_high_hum_high_dem = 3285-2344\n",
    "prob = n_high_hum_high_dem/n_high_hum\n",
    "prob"
   ]
  },
  {
   "cell_type": "markdown",
   "id": "c69fd0c9",
   "metadata": {},
   "source": [
    "## Q12"
   ]
  },
  {
   "cell_type": "code",
   "execution_count": 16,
   "id": "535673fd",
   "metadata": {},
   "outputs": [
    {
     "data": {
      "text/plain": [
       "0.4151826484018265"
      ]
     },
     "execution_count": 16,
     "metadata": {},
     "output_type": "execute_result"
    }
   ],
   "source": [
    "max_supp = (3637)/8760\n",
    "max_supp"
   ]
  },
  {
   "cell_type": "markdown",
   "id": "b12aab7b",
   "metadata": {},
   "source": [
    "## Q13"
   ]
  },
  {
   "cell_type": "code",
   "execution_count": 46,
   "id": "cf9f3aaa",
   "metadata": {},
   "outputs": [
    {
     "data": {
      "text/plain": [
       "30.639999999999997"
      ]
     },
     "execution_count": 46,
     "metadata": {},
     "output_type": "execute_result"
    }
   ],
   "source": [
    "# root node\n",
    "r = [23,6,17,14,13]\n",
    "r_mu = sum(r)/len(r)\n",
    "Ir = [(i-r_mu)**2 for i in r]\n",
    "Ir = sum(Ir)/len(r)\n",
    "Ir"
   ]
  },
  {
   "cell_type": "code",
   "execution_count": 45,
   "id": "26e5954b",
   "metadata": {},
   "outputs": [
    {
     "data": {
      "text/plain": [
       "0.0"
      ]
     },
     "execution_count": 45,
     "metadata": {},
     "output_type": "execute_result"
    }
   ],
   "source": [
    "# v1 node\n",
    "r = [23]\n",
    "r_mu = sum(r)/len(r)\n",
    "Ir = [(i-r_mu)**2 for i in r]\n",
    "Ir = sum(Ir)/len(r)\n",
    "Ir"
   ]
  },
  {
   "cell_type": "code",
   "execution_count": 44,
   "id": "28af83b6",
   "metadata": {},
   "outputs": [
    {
     "data": {
      "text/plain": [
       "16.25"
      ]
     },
     "execution_count": 44,
     "metadata": {},
     "output_type": "execute_result"
    }
   ],
   "source": [
    "# v2 node\n",
    "r = [6,17,14,13]\n",
    "r_mu = sum(r)/len(r)\n",
    "Ir = [(i-r_mu)**2 for i in r]\n",
    "Ir = sum(Ir)/len(r)\n",
    "Ir"
   ]
  },
  {
   "cell_type": "code",
   "execution_count": 47,
   "id": "df621d29",
   "metadata": {},
   "outputs": [
    {
     "data": {
      "text/plain": [
       "17.64"
      ]
     },
     "execution_count": 47,
     "metadata": {},
     "output_type": "execute_result"
    }
   ],
   "source": [
    "purity_gain = 30.64 - 1/5*0 - 4/5*16.25\n",
    "purity_gain"
   ]
  },
  {
   "cell_type": "code",
   "execution_count": 17,
   "id": "8e0fdca8",
   "metadata": {},
   "outputs": [
    {
     "data": {
      "text/plain": [
       "0.1599999999999997"
      ]
     },
     "execution_count": 17,
     "metadata": {},
     "output_type": "execute_result"
    }
   ],
   "source": [
    "## WRONG\n",
    "Ir = 1 - (1/5)**2 + (1/5)**2 + (3/5)**2\n",
    "Iv1 = 1 - (1/1)**2\n",
    "Iv2 = 1 - (1/4)**2 + (3/4)**2\n",
    "pg = Ir - (1/5)*Iv1 - (4/5)*Iv2\n",
    "pg"
   ]
  },
  {
   "cell_type": "code",
   "execution_count": 18,
   "id": "f852ebc2",
   "metadata": {},
   "outputs": [
    {
     "data": {
      "text/plain": [
       "0.7219280948873624"
      ]
     },
     "execution_count": 18,
     "metadata": {},
     "output_type": "execute_result"
    }
   ],
   "source": [
    "## WRONG\n",
    "Ir = -(1/5)*np.log2(1/5)-(1/5)*np.log2(1/5)-(3/5)*np.log2(3/5)\n",
    "Iv1 = -(1/1)*np.log2(1/1)\n",
    "Iv2 = -(1/4)*np.log2(1/4)-(3/4)*np.log2(3/4)\n",
    "pg = Ir - (1/5)*Iv1 - (4/5)*Iv2\n",
    "pg"
   ]
  },
  {
   "cell_type": "markdown",
   "id": "bee5e500",
   "metadata": {},
   "source": [
    "## Q17"
   ]
  },
  {
   "cell_type": "code",
   "execution_count": 19,
   "id": "ce6e2a78",
   "metadata": {},
   "outputs": [
    {
     "data": {
      "text/plain": [
       "0.512"
      ]
     },
     "execution_count": 19,
     "metadata": {},
     "output_type": "execute_result"
    }
   ],
   "source": [
    "var = .5*(1-1.6)**2 + 0.36*(2-1.6)**2 + 0.14*(3-1.6)**2\n",
    "var"
   ]
  }
 ],
 "metadata": {
  "kernelspec": {
   "display_name": "course02450",
   "language": "python",
   "name": "course02450"
  },
  "language_info": {
   "codemirror_mode": {
    "name": "ipython",
    "version": 3
   },
   "file_extension": ".py",
   "mimetype": "text/x-python",
   "name": "python",
   "nbconvert_exporter": "python",
   "pygments_lexer": "ipython3",
   "version": "3.9.16"
  }
 },
 "nbformat": 4,
 "nbformat_minor": 5
}
