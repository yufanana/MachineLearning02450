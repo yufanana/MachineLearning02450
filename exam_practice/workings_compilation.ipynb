{
 "cells": [
  {
   "cell_type": "markdown",
   "id": "24141f8e",
   "metadata": {},
   "source": [
    "### Compilation of workings used from old exam sets\n",
    "Fall 2019 <br>\n",
    "Spring 2020<br>\n",
    "Fall 2020<br>\n",
    "Spring 2021<br>\n",
    "Fall 2021<br>\n",
    "<br>\n",
    "... and other small exercises "
   ]
  },
  {
   "cell_type": "code",
   "execution_count": 1,
   "id": "aeea56f3",
   "metadata": {},
   "outputs": [],
   "source": [
    "import numpy as np\n",
    "import matplotlib.pyplot as plt\n",
    "from scipy.stats import norm"
   ]
  },
  {
   "cell_type": "markdown",
   "id": "5b9aa834",
   "metadata": {},
   "source": [
    "## Comparing similarity of partitions"
   ]
  },
  {
   "cell_type": "code",
   "execution_count": 2,
   "id": "bfbdffd3",
   "metadata": {},
   "outputs": [],
   "source": [
    "def compute_similarity(Z,Q):\n",
    "    \"\"\"\n",
    "    Input: labels of clusters in set Z and Q, \n",
    "    Output: Jaccard similarity and Rand index.\n",
    "    \"\"\"\n",
    "    import numpy as np\n",
    "    import matplotlib.pyplot as plt\n",
    "\n",
    "    Q = list(map(int,Q.split(\" \")))\n",
    "    Z = list(map(int,Z.split(\" \")))\n",
    "\n",
    "    print(f'Q: {Q}')\n",
    "    print(f'Z: {Z}\\n')\n",
    "\n",
    "    _,n_Q = np.unique(Q, return_counts=True)\n",
    "    _,n_Z = np.unique(Z, return_counts=True)\n",
    "    N = len(Q)\n",
    "    q_clusters = len(n_Q)\n",
    "    z_clusters = len(n_Z)\n",
    "    n = np.zeros((z_clusters,q_clusters),dtype='int32')\n",
    "\n",
    "    for i in range(N):\n",
    "        Q_idx = Q[i]-1\n",
    "        Z_idx = Z[i]-1\n",
    "        if Q[i]==Z[i]: # same cluster\n",
    "            n[Q_idx,Q_idx] += 1\n",
    "        else:          # diff cluster\n",
    "            n[Z_idx,Q_idx] += 1\n",
    "\n",
    "    S = 0\n",
    "    for i in range(z_clusters):\n",
    "        for j in range(q_clusters):\n",
    "            S += n[i,j]*(n[i,j]-1)/2\n",
    "\n",
    "    sum_term_z = 0\n",
    "    for i in range(z_clusters):\n",
    "        sum_term_z += n_Z[i]*(n_Z[i]-1)/2\n",
    "\n",
    "    sum_term_q = 0\n",
    "    for i in range(q_clusters):\n",
    "        sum_term_q += n_Q[i]*(n_Q[i]-1)/2\n",
    "\n",
    "    D = N*(N-1)/2 - sum_term_q - sum_term_z + S\n",
    "\n",
    "    jaccard = S/(0.5*N*(N-1)-D)\n",
    "    rand = (S+D)/(0.5*N*(N-1))\n",
    "\n",
    "    print(f'n: \\n{n}')\n",
    "    print(f'n_Q: {n_Q}')\n",
    "    print(f'n_Z: {n_Z}\\n')\n",
    "    print(f'S: {S}')\n",
    "    print(f'D: {D}')\n",
    "    print(f'jaccard similarity: {jaccard:.4f}')\n",
    "    print(f'rand index: {rand:.4f}')"
   ]
  },
  {
   "cell_type": "code",
   "execution_count": 3,
   "id": "408e4530",
   "metadata": {},
   "outputs": [
    {
     "name": "stdout",
     "output_type": "stream",
     "text": [
      "Q: [4, 4, 1, 1, 2, 2, 2, 3, 3]\n",
      "Z: [1, 1, 1, 1, 2, 2, 3, 3, 3]\n",
      "\n",
      "n: \n",
      "[[2 0 0 2]\n",
      " [0 2 0 0]\n",
      " [0 1 2 0]]\n",
      "n_Q: [2 3 2 2]\n",
      "n_Z: [4 2 3]\n",
      "\n",
      "S: 4.0\n",
      "D: 24.0\n",
      "jaccard similarity: 0.3333\n",
      "rand index: 0.7778\n"
     ]
    }
   ],
   "source": [
    "# Lecture 10, slide 68\n",
    "Z = '1 1 1 1 2 2 3 3 3'\n",
    "Q = '4 4 1 1 2 2 2 3 3'\n",
    "compute_similarity(Z,Q)\n",
    "\n",
    "# Lecture 10, quiz 4\n",
    "# Q = '1 1 3 1 1 1 1 3 3 2'\n",
    "# Z = '1 1 2 2 2 3 3 3 3 3'\n",
    "# compute_similarity(Z,Q)"
   ]
  },
  {
   "cell_type": "markdown",
   "id": "b699f78f",
   "metadata": {},
   "source": [
    "## toolbox_02450 `clusterval`\n",
    "\n",
    "This function was copied from the toolbox"
   ]
  },
  {
   "cell_type": "code",
   "execution_count": 4,
   "id": "94c5a9e0",
   "metadata": {},
   "outputs": [],
   "source": [
    "def clusterval(y, clusterid):\n",
    "    '''\n",
    "    CLUSTERVAL Estimate cluster validity using Entropy, Purity, Rand Statistic,\n",
    "    and Jaccard coefficient.\n",
    "    \n",
    "    Usage:\n",
    "      Entropy, Purity, Rand, Jaccard = clusterval(y, clusterid);\n",
    "    \n",
    "    Input:\n",
    "       y         N-by-1 vector of class labels \n",
    "       clusterid N-by-1 vector of cluster indices\n",
    "    \n",
    "    Output:\n",
    "      Entropy    Entropy measure.\n",
    "      Purity     Purity measure.\n",
    "      Rand       Rand index.\n",
    "      Jaccard    Jaccard coefficient.\n",
    "    '''\n",
    "    import sklearn.metrics.cluster as cluster_metrics\n",
    "    \n",
    "    NMI = cluster_metrics.normalized_mutual_info_score(y,clusterid)\n",
    "    \n",
    "    #y = np.asarray(y).ravel(); clusterid = np.asarray(clusterid).ravel()\n",
    "    C = np.unique(y).size; K = np.unique(clusterid).size; N = y.shape[0]\n",
    "    EPS = 2.22e-16\n",
    "    \n",
    "    p_ij = np.zeros((K,C))          # probability that member of i'th cluster belongs to j'th class\n",
    "    m_i = np.zeros((K,1))           # total number of objects in i'th cluster\n",
    "    for k in range(K):\n",
    "        m_i[k] = (clusterid==k).sum()\n",
    "        yk = y[clusterid==k]\n",
    "        for c in range(C):\n",
    "            m_ij = (yk==c).sum()    # number of objects of j'th class in i'th cluster\n",
    "            p_ij[k,c] = m_ij.astype(float)/m_i[k]\n",
    "    entropy = ( (1-(p_ij*np.log2(p_ij+EPS)).sum(axis=1))*m_i.T ).sum() / (N*K) \n",
    "    purity = ( p_ij.max(axis=1) ).sum() / K\n",
    "\n",
    "    f00=0; f01=0; f10=0; f11=0\n",
    "    for i in range(N):\n",
    "        for j in range(i):\n",
    "            if y[i]!=y[j] and clusterid[i]!=clusterid[j]: f00 += 1;     # different class, different cluster    \n",
    "            elif y[i]==y[j] and clusterid[i]==clusterid[j]: f11 += 1;   # same class, same cluster\n",
    "            elif y[i]==y[j] and clusterid[i]!=clusterid[j]: f10 += 1;   # same class, different cluster    \n",
    "            else: f01 +=1;                                              # different class, same cluster\n",
    "    rand = float(f00+f11)/(f00+f01+f10+f11)\n",
    "    jaccard = float(f11)/(f01+f10+f11)\n",
    "\n",
    "    return rand, jaccard, NMI"
   ]
  },
  {
   "cell_type": "markdown",
   "id": "c1b6552d",
   "metadata": {},
   "source": [
    "## Gaussian Kernel Density Estimator"
   ]
  },
  {
   "cell_type": "code",
   "execution_count": 5,
   "id": "ba7c41e8",
   "metadata": {},
   "outputs": [
    {
     "name": "stdout",
     "output_type": "stream",
     "text": [
      "6.515389602106574e-06\n"
     ]
    }
   ],
   "source": [
    "## Exercise 11, Question 1\n",
    "dist = [5.11,4.79,4.9,4.74,2.96,5.16,2.88]\n",
    "\n",
    "N = len(dist)\n",
    "exp = np.array([np.exp(-0.5*d**2) for d in dist])\n",
    "density = 1/(N*(2*np.pi)**3.5)*exp.sum()\n",
    "print(density)"
   ]
  },
  {
   "cell_type": "markdown",
   "id": "873c1ec0",
   "metadata": {},
   "source": [
    "# Fall 2021"
   ]
  },
  {
   "cell_type": "code",
   "execution_count": 7,
   "id": "385f8f1d",
   "metadata": {},
   "outputs": [],
   "source": [
    "import numpy as np\n",
    "import matplotlib.pyplot as plt"
   ]
  },
  {
   "cell_type": "code",
   "execution_count": 8,
   "id": "e1419de3",
   "metadata": {},
   "outputs": [
    {
     "data": {
      "text/plain": [
       "0.029850746268656716"
      ]
     },
     "execution_count": 8,
     "metadata": {},
     "output_type": "execute_result"
    }
   ],
   "source": [
    "## Q8\n",
    "K = 3\n",
    "density = K/(24.2+38.5+37.8)\n",
    "density"
   ]
  },
  {
   "cell_type": "code",
   "execution_count": 9,
   "id": "34401b8e",
   "metadata": {},
   "outputs": [
    {
     "data": {
      "text/plain": [
       "0.6245613861283321"
      ]
     },
     "execution_count": 9,
     "metadata": {},
     "output_type": "execute_result"
    }
   ],
   "source": [
    "## Q9 kde, kernel density estimation\n",
    "l = 20\n",
    "np.exp(-24.2**2/(2*l**2))+np.exp(-39.4**2/(2*l**2))"
   ]
  },
  {
   "cell_type": "code",
   "execution_count": 10,
   "id": "bd467aa7",
   "metadata": {},
   "outputs": [
    {
     "data": {
      "text/plain": [
       "0.40824829046386296"
      ]
     },
     "execution_count": 10,
     "metadata": {},
     "output_type": "execute_result"
    }
   ],
   "source": [
    "## Q11, cosine similarity\n",
    "f11 = 1\n",
    "f11/(np.sqrt(2)*np.sqrt(3))"
   ]
  },
  {
   "cell_type": "code",
   "execution_count": 11,
   "id": "5cecada5",
   "metadata": {},
   "outputs": [
    {
     "data": {
      "text/plain": [
       "0.24022038567493123"
      ]
     },
     "execution_count": 11,
     "metadata": {},
     "output_type": "execute_result"
    }
   ],
   "source": [
    "## Q12, purity gain, gini impurity measure\n",
    "Ir = 1 - ((2/11)**2 + (5/11)**2 + (4/11)**2)\n",
    "Iv1 = 1 - ((2/6)**2 + (4/6)**2)\n",
    "Iv2 = 1 - ((1/5)**2 + (4/5)**2)\n",
    "\n",
    "n1 = 6/11\n",
    "n2 = 5/11\n",
    "\n",
    "pg = Ir - n1*Iv1 - n2*Iv2\n",
    "pg"
   ]
  },
  {
   "cell_type": "code",
   "execution_count": 12,
   "id": "0c45d670",
   "metadata": {},
   "outputs": [
    {
     "name": "stdout",
     "output_type": "stream",
     "text": [
      "0.07493112947658402\n",
      "0.24022038567493112\n",
      "0.2727272727272727\n",
      "0.7597796143250689\n"
     ]
    }
   ],
   "source": [
    "print(136/1815)\n",
    "print(436/1815)\n",
    "print(3/11)\n",
    "print(1379/1815)"
   ]
  },
  {
   "cell_type": "code",
   "execution_count": 13,
   "id": "091b4716",
   "metadata": {},
   "outputs": [
    {
     "data": {
      "text/plain": [
       "0.7132281110308527"
      ]
     },
     "execution_count": 13,
     "metadata": {},
     "output_type": "execute_result"
    }
   ],
   "source": [
    "## Q15, naive bayes classifier\n",
    "mu11 = (38+26.8)/2\n",
    "mu12 = (15.1+12.8)/2\n",
    "var = 400\n",
    "x1 = 32\n",
    "x2 = 14\n",
    "\n",
    "p1 = 1/np.sqrt((2*np.pi*var))*np.exp(-(x1-mu11)**2/(2*var))\n",
    "p2 = 1/np.sqrt((2*np.pi*var))*np.exp(-(x2-mu12)**2/(2*var))\n",
    "# p1 = norm.pdf(x1,mu11,np.sqrt(var))\n",
    "# p2 = norm.pdf(x2,mu12,np.sqrt(var))\n",
    "\n",
    "pC1 = 2/11\n",
    "\n",
    "nb = p1*p2*pC1/0.00010141\n",
    "nb"
   ]
  },
  {
   "cell_type": "code",
   "execution_count": 14,
   "id": "45304e50",
   "metadata": {},
   "outputs": [
    {
     "data": {
      "text/plain": [
       "909"
      ]
     },
     "execution_count": 14,
     "metadata": {},
     "output_type": "execute_result"
    }
   ],
   "source": [
    "## Q17, ANN, parameters to train\n",
    "M = 8\n",
    "C = 9\n",
    "N = 50\n",
    "(M+1)*N + N*C + C\n",
    "\n",
    "## OR\n",
    "# hidden_weights = (M+1)*N\n",
    "# class_weights = (N+1)*C\n",
    "# hidden_weights + class_weights"
   ]
  },
  {
   "cell_type": "code",
   "execution_count": 15,
   "id": "207a738e",
   "metadata": {
    "scrolled": false
   },
   "outputs": [
    {
     "data": {
      "text/plain": [
       "0.6666666666666666"
      ]
     },
     "execution_count": 15,
     "metadata": {},
     "output_type": "execute_result"
    }
   ],
   "source": [
    "## Q19, adaboost\n",
    "acc = 3/4\n",
    "e = 1-acc\n",
    "alpha = 0.5*np.log((1-e)/e)     # natural log\n",
    "N = 572\n",
    "w1 = 1/N\n",
    "\n",
    "w2_correct = np.exp(-alpha)/(acc*np.exp(-alpha)+e*np.exp(alpha))\n",
    "w2 = w1*w2_correct\n",
    "w2_correct"
   ]
  },
  {
   "cell_type": "raw",
   "id": "875d6d8a",
   "metadata": {},
   "source": [
    "## Q20, k-means, farthest-first initialization\n",
    "\n",
    "mu1 = 1.7\n",
    "mu2 = 4.6\n",
    "\n",
    "3.7 assigned to 4.6\n",
    "0.4 assigned to 1.7\n",
    "\n",
    "4.6-3.7 = 0.9\n",
    "1.7-0.4 = 1.3   # furthest from its assigned cluster\n",
    "\n",
    "Thus, mu3 = 0.4"
   ]
  },
  {
   "cell_type": "code",
   "execution_count": 16,
   "id": "d910cb96",
   "metadata": {},
   "outputs": [
    {
     "name": "stdout",
     "output_type": "stream",
     "text": [
      "[[ 6.1232340e-17  1.0000000e+00]\n",
      " [-1.0000000e+00  1.2246468e-16]\n",
      " [-1.8369702e-16 -1.0000000e+00]\n",
      " [ 1.0000000e+00 -2.4492936e-16]]\n",
      "w: [1.  1.5]\n"
     ]
    }
   ],
   "source": [
    "## Q21, linear regression, feature transformation\n",
    "x = np.array([1,2,3,4])\n",
    "phi = np.zeros((4,2))\n",
    "\n",
    "for i in range(x.shape[0]):\n",
    "    phi[i,0] = np.cos(np.pi/2*x[i])\n",
    "    phi[i,1] = np.sin(np.pi/2*x[i])\n",
    "print(phi)\n",
    "\n",
    "X = np.array([[0,1],\n",
    "              [-1,0],\n",
    "              [0,-1],\n",
    "              [1,0]])\n",
    "y = np.array([6,2,3,4])\n",
    "\n",
    "temp = np.linalg.inv(X.T@X)\n",
    "print(f'w: {temp @ X.T @ y}')"
   ]
  },
  {
   "cell_type": "code",
   "execution_count": 17,
   "id": "e14b1eb1",
   "metadata": {},
   "outputs": [
    {
     "data": {
      "text/plain": [
       "2.0000000000000044"
      ]
     },
     "execution_count": 17,
     "metadata": {},
     "output_type": "execute_result"
    }
   ],
   "source": [
    "## Q22, ridge regression\n",
    "x = np.array([1,2,3,4])\n",
    "mean = x.mean()\n",
    "std = x.std(ddof=1)    # IMPT!! ddof = 1\n",
    "# std = np.sqrt(1/(N-1) * np.sum(np.power(xi-mu,2)))  \n",
    "x = (x-mean)/std\n",
    "\n",
    "y = np.array([6,2,3,4])\n",
    "E = 8\n",
    "w = np.array([15/4, -np.sqrt(3/20)])\n",
    "\n",
    "temp =  y - w[0]*1 - x*w[1]\n",
    "l = (E - temp@temp.T)/w[1]**2\n",
    "l"
   ]
  },
  {
   "cell_type": "code",
   "execution_count": 18,
   "id": "bb272db6",
   "metadata": {},
   "outputs": [
    {
     "name": "stdout",
     "output_type": "stream",
     "text": [
      "7.699999999999999\n",
      "7.699999999999998\n"
     ]
    }
   ],
   "source": [
    "# Equivalent expressions for ||x||^2\n",
    "A = y - w[0]*1 - x*w[1]\n",
    "print(A@A.T)\n",
    "\n",
    "A = y - w[0]*1 - x*w[1]\n",
    "print(np.linalg.norm(A)**2)"
   ]
  },
  {
   "cell_type": "code",
   "execution_count": 19,
   "id": "3b9cfa01",
   "metadata": {},
   "outputs": [
    {
     "data": {
      "text/plain": [
       "array([[2.]])"
      ]
     },
     "execution_count": 19,
     "metadata": {},
     "output_type": "execute_result"
    }
   ],
   "source": [
    "## Q22 Rolando\n",
    "xi= np.array([1,2,3,4])\n",
    "N = np.size(xi)\n",
    "mu = np.mean(xi)\n",
    "# s = np.sqrt(1/(N-1) * np.sum(np.power(xi-mu,2))) \n",
    "s = np.std(xi, ddof = 1)\n",
    "xhat = (xi - mu) / s\n",
    "\n",
    "yi= np.reshape(np.array([6,2,3,4]), (-1,1))\n",
    "xi= np.reshape(xhat, (-1,1))\n",
    "\n",
    "w = -(np.sqrt(3/20))\n",
    "w0= 15/4\n",
    "E=8\n",
    "\n",
    "dd = yi - w0 - xi*w\n",
    "lp = E - np.dot(dd.T,dd)\n",
    "lp/np.power(w,2)"
   ]
  },
  {
   "cell_type": "code",
   "execution_count": 20,
   "id": "8fe03565",
   "metadata": {
    "scrolled": true
   },
   "outputs": [
    {
     "data": {
      "text/plain": [
       "70"
      ]
     },
     "execution_count": 20,
     "metadata": {},
     "output_type": "execute_result"
    }
   ],
   "source": [
    "## Q23, feature selection, number of models\n",
    "# disregarding K-fold CV initially\n",
    "n_forward = 1+8+7+6+5+4+3+2\n",
    "n_back = 1+8+7+6\n",
    "\n",
    "K = 5\n",
    "n_difference = K*(n_forward-n_back)\n",
    "n_difference"
   ]
  },
  {
   "cell_type": "code",
   "execution_count": 21,
   "id": "72c8ff4f",
   "metadata": {},
   "outputs": [
    {
     "name": "stdout",
     "output_type": "stream",
     "text": [
      "6 2.0 0.3779644730092272\n",
      "0.3779644730092272\n"
     ]
    }
   ],
   "source": [
    "## Q24, inverse cdf of student's t-distribution\n",
    "n = 7\n",
    "z = np.array([1,3,3,1,2,3,1])\n",
    "\n",
    "v = n - 1\n",
    "mu = z.mean()\n",
    "\n",
    "temp = (z-2).T@(z-2)\n",
    "var = 1/(n*(n-1))*temp.sum()\n",
    "std = np.sqrt(var)\n",
    "\n",
    "print(v,mu,std)\n",
    "print(np.sqrt(1/7))"
   ]
  },
  {
   "cell_type": "code",
   "execution_count": 22,
   "id": "680f2c42",
   "metadata": {},
   "outputs": [
    {
     "name": "stdout",
     "output_type": "stream",
     "text": [
      "K: 7, t:145984\n",
      "K: 8, t:169095\n",
      "K: 9, t:192215\n",
      "K: 10, t:215339\n"
     ]
    }
   ],
   "source": [
    "## Q25, cross validation, CV, time budget\n",
    "K = [7,8,9,10]\n",
    "\n",
    "t0 = 800*np.log2(800) + 200\n",
    "L = 3\n",
    "for k in K:\n",
    "    ni = 800*(k-1)/k    # size of training dataset \n",
    "    mi = 800/k          # size of validation dataset\n",
    "    t1 = L*k*(ni*np.log2(ni)+mi)\n",
    "    t = t0 + t1\n",
    "    print(f'K: {k}, t:{t:.0f}')"
   ]
  },
  {
   "cell_type": "code",
   "execution_count": 23,
   "id": "ccda2e2d",
   "metadata": {
    "scrolled": false
   },
   "outputs": [
    {
     "name": "stdout",
     "output_type": "stream",
     "text": [
      "[0.  0.1 0.2 0.3 0.4 0.5 0.6 0.7 0.8]\n",
      "n_positive: 5, n_negative: 4\n"
     ]
    },
    {
     "data": {
      "image/png": "[encoded data removed]",
      "text/plain": [
       "<Figure size 640x480 with 1 Axes>"
      ]
     },
     "metadata": {},
     "output_type": "display_data"
    }
   ],
   "source": [
    "## Q27\n",
    "# y_hat values are estimated from the predictions. \n",
    "# More importantly is the sequence of the observations \n",
    "# and their corresponding classes\n",
    "\n",
    "import numpy as np\n",
    "\n",
    "# Prediction C\n",
    "y_hat = np.linspace(0,0.8,9)\n",
    "# y_hat = [0,0.05,0.1,0.15,0.4,0.5,0.55,0.7,0.8]   \n",
    "y_true = [1,1,1,0,0,0,1,0,1]\n",
    "\n",
    "# # Prediction A\n",
    "# y_hat = [0,0.08,0.1,0.15,0.4,0.5,0.55,0.75,0.8] \n",
    "# y_true = [0,1,1,0,0,1,1,1,0]\n",
    "\n",
    "# # Prediction B\n",
    "# y_hat = [0,0.05,0.1,0.15,0.4,0.5,0.55,0.7,0.8] \n",
    "# y_true = [0,1,1,1,0,1,0,1,0]\n",
    "\n",
    "# # Prediction D\n",
    "# n = 9\n",
    "# y_hat = [0,0.05,0.1,0.15,0.4,] \n",
    "# y_true = [1,0,1,1,0,1,1,0,0]\n",
    "\n",
    "print(y_hat)\n",
    "draw_ROC_curve(y_hat,y_true)"
   ]
  },
  {
   "cell_type": "markdown",
   "id": "6d6db960",
   "metadata": {},
   "source": [
    "# Spring 2021"
   ]
  },
  {
   "cell_type": "code",
   "execution_count": 24,
   "id": "fd6a4c3e",
   "metadata": {},
   "outputs": [],
   "source": [
    "import numpy as np"
   ]
  },
  {
   "cell_type": "markdown",
   "id": "902f7957",
   "metadata": {},
   "source": [
    "## Comparing similarity of partitions"
   ]
  },
  {
   "cell_type": "code",
   "execution_count": 25,
   "id": "196bbf44",
   "metadata": {},
   "outputs": [
    {
     "data": {
      "text/plain": [
       "array([ 2.6,  1. , -0.3,  1.2,  1.2])"
      ]
     },
     "execution_count": 25,
     "metadata": {},
     "output_type": "execute_result"
    }
   ],
   "source": [
    "x = np.array([15.5, 59.2, 1.4, 1438, 5.3])\n",
    "mu = np.array([12.9, 58.2, 1.7, 1436.8, 4.1])\n",
    "x.shape\n",
    "x_til = x-mu\n",
    "x_til"
   ]
  },
  {
   "cell_type": "code",
   "execution_count": 26,
   "id": "2947a7d4",
   "metadata": {},
   "outputs": [
    {
     "name": "stdout",
     "output_type": "stream",
     "text": [
      "[ 3.000e-03 -2.706e+00  1.000e-03  4.200e-02  1.700e-02]\n",
      "[ 3.000e-03 -2.706e+00  1.000e-03  4.200e-02  1.700e-02]\n"
     ]
    }
   ],
   "source": [
    "V = np.array([[0.11, -0.58, 0.3, -0.17, -0.48],\n",
    "              [-0.58, -0.31, 0.01, -0.5, 0.56],\n",
    "              [0.49, 0.08, -0.49, -0.72 ,-0.07],\n",
    "              [0.6, -0.36, 0.04, 0.27 ,0.66],\n",
    "              [-0.23, -0.36, -0.82 ,0.37 ,-0.09]])\n",
    "print(x_til.T@V)\n",
    "print(np.matmul(x_til.T,V))"
   ]
  },
  {
   "cell_type": "markdown",
   "id": "eee47702",
   "metadata": {},
   "source": [
    "## Q2"
   ]
  },
  {
   "cell_type": "code",
   "execution_count": 27,
   "id": "a1db817f",
   "metadata": {},
   "outputs": [
    {
     "data": {
      "text/plain": [
       "array([ 829.636, -546.818,   57.73 ,  356.978,  974.217])"
      ]
     },
     "execution_count": 27,
     "metadata": {},
     "output_type": "execute_result"
    }
   ],
   "source": [
    "x.T@V"
   ]
  },
  {
   "cell_type": "code",
   "execution_count": 28,
   "id": "ebc09598",
   "metadata": {},
   "outputs": [],
   "source": [
    "v1 = np.array([0.11, -0.58, 0.49, 0.6, -0.23])"
   ]
  },
  {
   "cell_type": "code",
   "execution_count": 29,
   "id": "df113868",
   "metadata": {},
   "outputs": [
    {
     "data": {
      "text/plain": [
       "array([ 1.0015e+00,  2.2000e-02, -3.0000e-04, -4.6000e-03,  4.8000e-03])"
      ]
     },
     "execution_count": 29,
     "metadata": {},
     "output_type": "execute_result"
    }
   ],
   "source": [
    "V.T@v1"
   ]
  },
  {
   "cell_type": "markdown",
   "id": "0c5470af",
   "metadata": {},
   "source": [
    "## Q4"
   ]
  },
  {
   "cell_type": "code",
   "execution_count": 30,
   "id": "1f856aa8",
   "metadata": {},
   "outputs": [
    {
     "name": "stdout",
     "output_type": "stream",
     "text": [
      "[  14.756   59.192    1.444 1437.952    5.252]\n",
      "[  12.204   57.828    1.796 1436.368    3.668]\n",
      "[  12.03    57.735    1.82  1436.26     3.56 ]\n",
      "[  13.828   58.696    1.572 1437.376    4.676]\n"
     ]
    }
   ],
   "source": [
    "b_a = np.array([0, -3.2, 0, 0, 0]).T\n",
    "b_b = np.array([0, 1.2, 0, 0, 0]).T\n",
    "b_c = np.array([0, 1.5, 0, 0, 0]).T\n",
    "b_d = np.array([0, -1.6, 0, 0, 0]).T\n",
    "\n",
    "print(V@b_a + mu)\n",
    "print(V@b_b + mu)\n",
    "print(V@b_c + mu)\n",
    "print(V@b_d + mu)"
   ]
  },
  {
   "cell_type": "markdown",
   "id": "641cbfe7",
   "metadata": {},
   "source": [
    "## Q5"
   ]
  },
  {
   "cell_type": "code",
   "execution_count": 31,
   "id": "338d9bc7",
   "metadata": {},
   "outputs": [
    {
     "data": {
      "text/plain": [
       "2.6457513110645907"
      ]
     },
     "execution_count": 31,
     "metadata": {},
     "output_type": "execute_result"
    }
   ],
   "source": [
    "np.sqrt(7)"
   ]
  },
  {
   "cell_type": "code",
   "execution_count": 32,
   "id": "275294f0",
   "metadata": {},
   "outputs": [
    {
     "data": {
      "text/plain": [
       "-0.3436164855716712"
      ]
     },
     "execution_count": 32,
     "metadata": {},
     "output_type": "execute_result"
    }
   ],
   "source": [
    "-7/(np.sqrt(415)*np.sqrt(1))"
   ]
  },
  {
   "cell_type": "markdown",
   "id": "05e03865",
   "metadata": {},
   "source": [
    "## Q7"
   ]
  },
  {
   "cell_type": "code",
   "execution_count": 33,
   "id": "4da37f96",
   "metadata": {},
   "outputs": [
    {
     "name": "stdout",
     "output_type": "stream",
     "text": [
      "density_3: 0.18867924528301885\n"
     ]
    },
    {
     "data": {
      "text/plain": [
       "0.6979857215706273"
      ]
     },
     "execution_count": 33,
     "metadata": {},
     "output_type": "execute_result"
    }
   ],
   "source": [
    "K = 2\n",
    "density = K/(5.4+5.2)   # o3\n",
    "density_n1 = K/(4.0+3.5)   # o2\n",
    "density_n2 = K/(4.0+3.3)   # o4\n",
    "print(f'density_3: {density}')\n",
    "\n",
    "ard = density*K/(density_n1 + density_n2)\n",
    "ard"
   ]
  },
  {
   "cell_type": "markdown",
   "id": "b2610d31",
   "metadata": {},
   "source": [
    "## Q11"
   ]
  },
  {
   "cell_type": "code",
   "execution_count": 34,
   "id": "a6d59c62",
   "metadata": {},
   "outputs": [
    {
     "data": {
      "text/plain": [
       "0.2791456541085731"
      ]
     },
     "execution_count": 34,
     "metadata": {},
     "output_type": "execute_result"
    }
   ],
   "source": [
    "n_high_hum = (3285-1327)+(2190-1718)+(3285-2344)\n",
    "n_high_hum_high_dem = 3285-2344\n",
    "prob = n_high_hum_high_dem/n_high_hum\n",
    "prob"
   ]
  },
  {
   "cell_type": "markdown",
   "id": "c69fd0c9",
   "metadata": {},
   "source": [
    "## Q12"
   ]
  },
  {
   "cell_type": "code",
   "execution_count": 35,
   "id": "535673fd",
   "metadata": {},
   "outputs": [
    {
     "data": {
      "text/plain": [
       "0.4151826484018265"
      ]
     },
     "execution_count": 35,
     "metadata": {},
     "output_type": "execute_result"
    }
   ],
   "source": [
    "max_supp = (3637)/8760\n",
    "max_supp"
   ]
  },
  {
   "cell_type": "markdown",
   "id": "b12aab7b",
   "metadata": {},
   "source": [
    "## Q13"
   ]
  },
  {
   "cell_type": "code",
   "execution_count": 36,
   "id": "cf9f3aaa",
   "metadata": {},
   "outputs": [
    {
     "data": {
      "text/plain": [
       "30.639999999999997"
      ]
     },
     "execution_count": 36,
     "metadata": {},
     "output_type": "execute_result"
    }
   ],
   "source": [
    "# root node\n",
    "r = [23,6,17,14,13]\n",
    "r_mu = sum(r)/len(r)\n",
    "Ir = [(i-r_mu)**2 for i in r]\n",
    "Ir = sum(Ir)/len(r)\n",
    "Ir"
   ]
  },
  {
   "cell_type": "code",
   "execution_count": 37,
   "id": "26e5954b",
   "metadata": {},
   "outputs": [
    {
     "data": {
      "text/plain": [
       "0.0"
      ]
     },
     "execution_count": 37,
     "metadata": {},
     "output_type": "execute_result"
    }
   ],
   "source": [
    "# v1 node\n",
    "r = [23]\n",
    "r_mu = sum(r)/len(r)\n",
    "Ir = [(i-r_mu)**2 for i in r]\n",
    "Ir = sum(Ir)/len(r)\n",
    "Ir"
   ]
  },
  {
   "cell_type": "code",
   "execution_count": 38,
   "id": "28af83b6",
   "metadata": {},
   "outputs": [
    {
     "data": {
      "text/plain": [
       "16.25"
      ]
     },
     "execution_count": 38,
     "metadata": {},
     "output_type": "execute_result"
    }
   ],
   "source": [
    "# v2 node\n",
    "r = [6,17,14,13]\n",
    "r_mu = sum(r)/len(r)\n",
    "Ir = [(i-r_mu)**2 for i in r]\n",
    "Ir = sum(Ir)/len(r)\n",
    "Ir"
   ]
  },
  {
   "cell_type": "code",
   "execution_count": 39,
   "id": "df621d29",
   "metadata": {},
   "outputs": [
    {
     "data": {
      "text/plain": [
       "17.64"
      ]
     },
     "execution_count": 39,
     "metadata": {},
     "output_type": "execute_result"
    }
   ],
   "source": [
    "purity_gain = 30.64 - 1/5*0 - 4/5*16.25\n",
    "purity_gain"
   ]
  },
  {
   "cell_type": "code",
   "execution_count": 40,
   "id": "8e0fdca8",
   "metadata": {},
   "outputs": [
    {
     "data": {
      "text/plain": [
       "0.1599999999999997"
      ]
     },
     "execution_count": 40,
     "metadata": {},
     "output_type": "execute_result"
    }
   ],
   "source": [
    "## WRONG\n",
    "Ir = 1 - (1/5)**2 + (1/5)**2 + (3/5)**2\n",
    "Iv1 = 1 - (1/1)**2\n",
    "Iv2 = 1 - (1/4)**2 + (3/4)**2\n",
    "pg = Ir - (1/5)*Iv1 - (4/5)*Iv2\n",
    "pg"
   ]
  },
  {
   "cell_type": "code",
   "execution_count": 41,
   "id": "f852ebc2",
   "metadata": {},
   "outputs": [
    {
     "data": {
      "text/plain": [
       "0.7219280948873624"
      ]
     },
     "execution_count": 41,
     "metadata": {},
     "output_type": "execute_result"
    }
   ],
   "source": [
    "## WRONG\n",
    "Ir = -(1/5)*np.log2(1/5)-(1/5)*np.log2(1/5)-(3/5)*np.log2(3/5)\n",
    "Iv1 = -(1/1)*np.log2(1/1)\n",
    "Iv2 = -(1/4)*np.log2(1/4)-(3/4)*np.log2(3/4)\n",
    "pg = Ir - (1/5)*Iv1 - (4/5)*Iv2\n",
    "pg"
   ]
  },
  {
   "cell_type": "markdown",
   "id": "bee5e500",
   "metadata": {},
   "source": [
    "## Q17"
   ]
  },
  {
   "cell_type": "code",
   "execution_count": 42,
   "id": "ce6e2a78",
   "metadata": {},
   "outputs": [
    {
     "data": {
      "text/plain": [
       "0.512"
      ]
     },
     "execution_count": 42,
     "metadata": {},
     "output_type": "execute_result"
    }
   ],
   "source": [
    "var = .5*(1-1.6)**2 + 0.36*(2-1.6)**2 + 0.14*(3-1.6)**2\n",
    "var"
   ]
  },
  {
   "cell_type": "code",
   "execution_count": 43,
   "id": "af97e11a",
   "metadata": {},
   "outputs": [
    {
     "data": {
      "text/plain": [
       "array([ 2.6,  1. , -0.3,  1.2,  1.2])"
      ]
     },
     "execution_count": 43,
     "metadata": {},
     "output_type": "execute_result"
    }
   ],
   "source": [
    "x = np.array([15.5, 59.2, 1.4, 1438, 5.3])\n",
    "mu = np.array([12.9, 58.2, 1.7, 1436.8, 4.1])\n",
    "x.shape\n",
    "x_til = x-mu\n",
    "x_til\n"
   ]
  },
  {
   "cell_type": "code",
   "execution_count": 44,
   "id": "6ca008cb",
   "metadata": {},
   "outputs": [
    {
     "name": "stdout",
     "output_type": "stream",
     "text": [
      "[ 3.000e-03 -2.706e+00  1.000e-03  4.200e-02  1.700e-02]\n",
      "[ 3.000e-03 -2.706e+00  1.000e-03  4.200e-02  1.700e-02]\n"
     ]
    }
   ],
   "source": [
    "V = np.array([[0.11, -0.58, 0.3, -0.17, -0.48],\n",
    "              [-0.58, -0.31, 0.01, -0.5, 0.56],\n",
    "              [0.49, 0.08, -0.49, -0.72 ,-0.07],\n",
    "              [0.6, -0.36, 0.04, 0.27 ,0.66],\n",
    "              [-0.23, -0.36, -0.82 ,0.37 ,-0.09]])\n",
    "print(x_til.T@V)\n",
    "print(np.matmul(x_til.T,V))"
   ]
  },
  {
   "cell_type": "markdown",
   "id": "fee6fe9b",
   "metadata": {},
   "source": [
    "## Q17"
   ]
  },
  {
   "cell_type": "code",
   "execution_count": 45,
   "id": "d10dcd6c",
   "metadata": {},
   "outputs": [
    {
     "data": {
      "text/plain": [
       "0.512"
      ]
     },
     "execution_count": 45,
     "metadata": {},
     "output_type": "execute_result"
    }
   ],
   "source": [
    "var = .5*(1-1.6)**2 + 0.36*(2-1.6)**2 + 0.14*(3-1.6)**2\n",
    "var"
   ]
  },
  {
   "cell_type": "markdown",
   "id": "0a72a84c",
   "metadata": {},
   "source": [
    "# Fall 2020"
   ]
  },
  {
   "cell_type": "code",
   "execution_count": 46,
   "id": "854c029b",
   "metadata": {},
   "outputs": [],
   "source": [
    "import numpy as np\n",
    "import matplotlib.pyplot as plt"
   ]
  },
  {
   "cell_type": "code",
   "execution_count": 47,
   "id": "de647a58",
   "metadata": {},
   "outputs": [
    {
     "data": {
      "text/plain": [
       "0.8741792369121562"
      ]
     },
     "execution_count": 47,
     "metadata": {},
     "output_type": "execute_result"
    }
   ],
   "source": [
    "## Q4, correlation, covariance\n",
    "cov = 9852\n",
    "std_x = np.sqrt(196)\n",
    "std_y = np.sqrt(648025)\n",
    "\n",
    "cor = cov/(std_x*std_y)\n",
    "cor"
   ]
  },
  {
   "cell_type": "code",
   "execution_count": 48,
   "id": "bfa03222",
   "metadata": {},
   "outputs": [
    {
     "name": "stdout",
     "output_type": "stream",
     "text": [
      "rho:\t [0.68616333 0.1946585  0.0922564  0.02692177]\n",
      "cumsum:\t [0.68616333 0.88082182 0.97307823 1.        ]\n"
     ]
    },
    {
     "data": {
      "image/png": "[encoded data removed]",
      "text/plain": [
       "<Figure size 640x480 with 1 Axes>"
      ]
     },
     "metadata": {},
     "output_type": "display_data"
    }
   ],
   "source": [
    "# S: sigma, not squared\n",
    "S = np.array([30.19,16.08,11.07,5.98])\n",
    "\n",
    "# rho: variance explained by each PC\n",
    "rho = (S*S) / (S*S).sum()\n",
    "print(f'rho:\\t {rho}')\n",
    "\n",
    "# cumulative sum\n",
    "cumsum = np.cumsum(rho)\n",
    "print(f'cumsum:\\t {cumsum}')\n",
    "\n",
    "plt.figure()\n",
    "plt.plot(range(1, len(rho)+1), rho, 'x-')\n",
    "plt.plot(range(1, len(rho)+1), np.cumsum(rho), 'o-')\n",
    "plt.title('Variance explained by principal components')\n",
    "plt.xlabel('Principal component')\n",
    "plt.ylabel('Variance explained')\n",
    "plt.legend(['Individual', 'Cumulative'])\n",
    "plt.grid()\n",
    "plt.show()"
   ]
  },
  {
   "cell_type": "code",
   "execution_count": 49,
   "id": "58df28e3",
   "metadata": {},
   "outputs": [
    {
     "name": "stdout",
     "output_type": "stream",
     "text": [
      "[-0.08] [1.33] [0.56] [1.37]\n"
     ]
    }
   ],
   "source": [
    "## Q7, PCA data projection\n",
    "x_til = np.array([-1,-1,-1,1])\n",
    "x_til = np.reshape(x_til, (-1,1))\n",
    "\n",
    "V = np.array([[0.45,-0.6,-0.64,0.15],\n",
    "              [-0.4,-0.8,0.43,-0.16],\n",
    "              [0.58,-0.01,0.24,-0.78],\n",
    "              [0.55,-0.08,0.59,0.58]])\n",
    "\n",
    "pc1 = x_til.T@V[:,0]\n",
    "pc2 = x_til.T@V[:,1]\n",
    "pc3 = x_til.T@V[:,2]\n",
    "pc4 = x_til.T@V[:,3]\n",
    "print(pc1,pc2,pc3,pc4)"
   ]
  },
  {
   "cell_type": "code",
   "execution_count": 50,
   "id": "460a3b75",
   "metadata": {},
   "outputs": [
    {
     "data": {
      "text/plain": [
       "0.8740909584283079"
      ]
     },
     "execution_count": 50,
     "metadata": {},
     "output_type": "execute_result"
    }
   ],
   "source": [
    "## Q8, rand index\n",
    "n = np.array([[114,0,32],\n",
    "              [0,119,0],\n",
    "              [8,0,60]])\n",
    "N = 333\n",
    "\n",
    "S = 0\n",
    "for i in range(3):\n",
    "    for j in range(3):\n",
    "        temp = 0.5*n[i,j]*(n[i,j]-1)\n",
    "        S += temp\n",
    "\n",
    "temp = 0\n",
    "for i in range(3):\n",
    "    temp += 0.5*n[:,i].sum()*(n[:,i].sum()-1)    # column-wise sum\n",
    "    temp += 0.5*n[i,:].sum()*(n[i,:].sum()-1)    # row-wise sum\n",
    "D = 0.5*N*(N-1) - temp + S\n",
    "\n",
    "rand = (S+D)/(0.5*N*(N-1))\n",
    "rand"
   ]
  },
  {
   "cell_type": "code",
   "execution_count": 51,
   "id": "8fca3b91",
   "metadata": {},
   "outputs": [
    {
     "data": {
      "text/plain": [
       "0.09467455621301776"
      ]
     },
     "execution_count": 51,
     "metadata": {},
     "output_type": "execute_result"
    }
   ],
   "source": [
    "## Q11, bayes theorem\n",
    "pp1 = 0.44\n",
    "pp2 = 0.36\n",
    "pp3 = 0.20\n",
    "\n",
    "l1 = 0\n",
    "l2 = 0.85\n",
    "l3 = 0.16\n",
    "\n",
    "prob = (l3*pp3)/(l1*pp1 + l2*pp2 + l3*pp3)\n",
    "prob"
   ]
  },
  {
   "cell_type": "code",
   "execution_count": 52,
   "id": "50eb6f65",
   "metadata": {},
   "outputs": [
    {
     "data": {
      "text/plain": [
       "0.7343046357615894"
      ]
     },
     "execution_count": 52,
     "metadata": {},
     "output_type": "execute_result"
    }
   ],
   "source": [
    "## Q12, density, average relative density\n",
    "K = 2\n",
    "density = K/(75+125)       # o2\n",
    "density_n1 = K/(75+51)     # o3\n",
    "density_n2 = K/(51+125)    # o10\n",
    "\n",
    "ard = density*K/(density_n1 + density_n2)\n",
    "ard"
   ]
  },
  {
   "cell_type": "code",
   "execution_count": 53,
   "id": "12f170c2",
   "metadata": {},
   "outputs": [
    {
     "data": {
      "text/plain": [
       "1145.8333333333333"
      ]
     },
     "execution_count": 53,
     "metadata": {},
     "output_type": "execute_result"
    }
   ],
   "source": [
    "## Q13, average linkage\n",
    "m2 = 2\n",
    "m3 = 3\n",
    "pairwise_o6 = 1025+925+1375\n",
    "pairwise_o7 = 1100+1000+1450\n",
    "\n",
    "(pairwise_o6+pairwise_o7)/(m2*m3)"
   ]
  },
  {
   "cell_type": "code",
   "execution_count": 54,
   "id": "17b69035",
   "metadata": {},
   "outputs": [
    {
     "data": {
      "text/plain": [
       "0.49999999999999994"
      ]
     },
     "execution_count": 54,
     "metadata": {},
     "output_type": "execute_result"
    }
   ],
   "source": [
    "## Q15, bayes theorem\n",
    "p_male = 6/10\n",
    "p_female = 4/10\n",
    "\n",
    "numerator = (3/6)*(4/6)*(3/6)*p_male\n",
    "denom = (2/4)*(4/4)*(2/4)*p_female + numerator\n",
    "\n",
    "prob = numerator/denom\n",
    "prob"
   ]
  },
  {
   "cell_type": "code",
   "execution_count": 55,
   "id": "1c06d1f8",
   "metadata": {},
   "outputs": [
    {
     "data": {
      "text/plain": [
       "0.20420420420420415"
      ]
     },
     "execution_count": 55,
     "metadata": {},
     "output_type": "execute_result"
    }
   ],
   "source": [
    "## Q18, purity gain, class error, classError\n",
    "I_parent = 1 - 146/333\n",
    "I_left = 1 - 146/(146+119)\n",
    "I_right = 1 - 68/68\n",
    "\n",
    "n1 = (146+119)/333\n",
    "n2 = 68/333\n",
    "\n",
    "pg = I_parent - n1*I_left - n2*I_right\n",
    "pg"
   ]
  },
  {
   "cell_type": "code",
   "execution_count": 56,
   "id": "35a7e0ca",
   "metadata": {},
   "outputs": [
    {
     "name": "stdout",
     "output_type": "stream",
     "text": [
      "0.2042042042042042 0.25660377358490566 0.7957957957957958\n"
     ]
    }
   ],
   "source": [
    "print(68/333,68/265,265/333)"
   ]
  },
  {
   "cell_type": "code",
   "execution_count": 57,
   "id": "4c75a372",
   "metadata": {},
   "outputs": [
    {
     "data": {
      "text/plain": [
       "0.08333333333333331"
      ]
     },
     "execution_count": 57,
     "metadata": {},
     "output_type": "execute_result"
    }
   ],
   "source": [
    "## Q19, adaboost\n",
    "w1 = 1/7\n",
    "e = 1/7\n",
    "alpha = 0.5*np.log((1-e)/e)\n",
    "w_correct = w1*np.exp(-alpha)/(6*w1*np.exp(-alpha) + w1*np.exp(alpha))\n",
    "w_correct"
   ]
  },
  {
   "cell_type": "code",
   "execution_count": 58,
   "id": "76bf2a98",
   "metadata": {},
   "outputs": [
    {
     "name": "stdout",
     "output_type": "stream",
     "text": [
      "1.0\n",
      "1.1692110261658423e-45\n"
     ]
    }
   ],
   "source": [
    "## Q21, logistic regression\n",
    "# w = [423.49, 48.16]\n",
    "# w = [0, -46.21]\n",
    "# w = [0, -27.89]\n",
    "w = [418.94, -26.12]\n",
    "\n",
    "x = 14\n",
    "y = 1/(1+np.exp(-w[0]-x*w[1]))\n",
    "print(y)\n",
    "\n",
    "x = 20\n",
    "y = 1/(1+np.exp(-w[0]-x*w[1]))\n",
    "print(y)"
   ]
  },
  {
   "cell_type": "code",
   "execution_count": 59,
   "id": "32e97d46",
   "metadata": {},
   "outputs": [
    {
     "data": {
      "text/plain": [
       "0.974887415657141"
      ]
     },
     "execution_count": 59,
     "metadata": {},
     "output_type": "execute_result"
    }
   ],
   "source": [
    "## Q22, GMM, gaussian mixture model\n",
    "from scipy.stats import norm\n",
    "\n",
    "# norm.pdf(test_value, mean, std)\n",
    "mm1 = norm.pdf(15.38, 18.347, 1.2193)\n",
    "mm2 = norm.pdf(15.38, 14.997,0.986)\n",
    "mm3 = norm.pdf(15.38, 18.421,1.1354)\n",
    "w1 = 0.13\n",
    "w2 = 0.55\n",
    "w3 = 0.32\n",
    "\n",
    "prob = mm2*w2/(mm1*w1 + mm2*w2 + mm3*w3)\n",
    "prob"
   ]
  },
  {
   "cell_type": "code",
   "execution_count": 60,
   "id": "c57aba47",
   "metadata": {},
   "outputs": [
    {
     "data": {
      "text/plain": [
       "0.44996253629022254"
      ]
     },
     "execution_count": 60,
     "metadata": {},
     "output_type": "execute_result"
    }
   ],
   "source": [
    "## Q23, McNemar's test, p-value\n",
    "import scipy\n",
    "\n",
    "n12 = 8+15+5\n",
    "n21 = 7+11+17\n",
    "p = 2*scipy.stats.binom.cdf(min([n12,n21]), n=n12+n21, p=0.5)\n",
    "p"
   ]
  },
  {
   "cell_type": "code",
   "execution_count": 61,
   "id": "c8670cc2",
   "metadata": {},
   "outputs": [],
   "source": [
    "## Q24, ROC curve\n",
    "\n",
    "def draw_ROC_curve(y_hat,y_true):\n",
    "    \"\"\"\n",
    "    Input: y_true values estimated from a 1-dimension observation,\n",
    "           y_hat values based on class membership\n",
    "    Output: Jaccard similarity and Rand index.\n",
    "    \"\"\"\n",
    "    \n",
    "    import matplotlib.pyplot as plt\n",
    "    \n",
    "    if len(y_hat)!=len(y_true):\n",
    "        raise ValueError(\"y_hat and y_true have different array lengths\")\n",
    "        \n",
    "    n = len(y_hat)\n",
    "    n_positive = y_true.count(1)\n",
    "    n_negative = y_true.count(0)\n",
    "    print(f'n_positive: {n_positive}, n_negative: {n_negative}')\n",
    "    \n",
    "    TPR = [1]\n",
    "    FPR = [1]\n",
    "    for i in range(n):\n",
    "        TP = 0\n",
    "        FP = 0\n",
    "        threshold = y_hat[i]\n",
    "        for j in range(n):\n",
    "            if y_hat[j] > threshold and y_true[j]==0:\n",
    "                FP+=1\n",
    "            if y_hat[j] > threshold and y_true[j]==1:\n",
    "                TP+=1\n",
    "        TPR.append(TP/n_positive)\n",
    "        FPR.append(FP/n_negative)\n",
    "        \n",
    "    plt.plot(FPR,TPR)\n",
    "    plt.grid()\n",
    "    plt.axis('square')\n",
    "    plt.show()"
   ]
  },
  {
   "cell_type": "code",
   "execution_count": 62,
   "id": "7cf7cefc",
   "metadata": {},
   "outputs": [
    {
     "name": "stdout",
     "output_type": "stream",
     "text": [
      "n_positive: 4, n_negative: 3\n"
     ]
    },
    {
     "data": {
      "image/png": "[encoded data removed]",
      "text/plain": [
       "<Figure size 640x480 with 1 Axes>"
      ]
     },
     "metadata": {},
     "output_type": "display_data"
    }
   ],
   "source": [
    "import numpy as np\n",
    "\n",
    "y_hat = [0.01,0.05,0.14,0.3,0.31,0.36,0.91]   \n",
    "y_true = [1,0,0,1,1,0,1]\n",
    "\n",
    "draw_ROC_curve(y_hat,y_true)"
   ]
  },
  {
   "cell_type": "code",
   "execution_count": 63,
   "id": "f246fffb",
   "metadata": {},
   "outputs": [
    {
     "data": {
      "text/plain": [
       "51"
      ]
     },
     "execution_count": 63,
     "metadata": {},
     "output_type": "execute_result"
    }
   ],
   "source": [
    "## Q25, ANN, number of parameters\n",
    "M = 4\n",
    "N = 6\n",
    "C = 3\n",
    "(M+1)*N + N*C + C"
   ]
  },
  {
   "cell_type": "code",
   "execution_count": 64,
   "id": "dd8fef60",
   "metadata": {},
   "outputs": [
    {
     "data": {
      "text/plain": [
       "0.24619289340101524"
      ]
     },
     "execution_count": 64,
     "metadata": {},
     "output_type": "execute_result"
    }
   ],
   "source": [
    "## Q26, bayes theorem\n",
    "num = 0.97*0.01\n",
    "denom = 0.97*0.01 + 0.03*0.99\n",
    "prob = num/denom\n",
    "prob"
   ]
  },
  {
   "cell_type": "code",
   "execution_count": 65,
   "id": "d3ec3308",
   "metadata": {},
   "outputs": [
    {
     "data": {
      "text/plain": [
       "1770"
      ]
     },
     "execution_count": 65,
     "metadata": {},
     "output_type": "execute_result"
    }
   ],
   "source": [
    "## Q27, cross validation, cv, leave one out\n",
    "# number of times an observation is trained\n",
    "# M = 4\n",
    "n = 221*2*4      # 1768, from inner fold\n",
    "n = n+2          # retrain on parameterisation set\n",
    "n"
   ]
  },
  {
   "cell_type": "markdown",
   "id": "87a88cff",
   "metadata": {},
   "source": [
    "# Spring 2020"
   ]
  },
  {
   "cell_type": "code",
   "execution_count": 66,
   "id": "891fef47",
   "metadata": {},
   "outputs": [],
   "source": [
    "import numpy as np\n",
    "import matplotlib.pyplot as plt"
   ]
  },
  {
   "cell_type": "code",
   "execution_count": 67,
   "id": "3d8494d1",
   "metadata": {},
   "outputs": [
    {
     "name": "stdout",
     "output_type": "stream",
     "text": [
      "rho:\t [0.8569893  0.10485905 0.02361172 0.01175298 0.00278695]\n",
      "cumsum:\t [0.8569893  0.96184835 0.98546007 0.99721305 1.        ]\n"
     ]
    },
    {
     "data": {
      "image/png": "[encoded data removed]",
      "text/plain": [
       "<Figure size 640x480 with 1 Axes>"
      ]
     },
     "metadata": {},
     "output_type": "display_data"
    }
   ],
   "source": [
    "## Q3\n",
    "# S: sigma, not squared\n",
    "S = np.array([19.64,6.87,3.26,2.3,1.12])\n",
    "\n",
    "# rho: variance explained by each PC\n",
    "rho = (S*S) / (S*S).sum()\n",
    "print(f'rho:\\t {rho}')\n",
    "\n",
    "# cumulative sum\n",
    "cumsum = np.cumsum(rho)\n",
    "print(f'cumsum:\\t {cumsum}')\n",
    "\n",
    "plt.figure()\n",
    "plt.plot(range(1, len(rho)+1), rho, 'x-')\n",
    "plt.plot(range(1, len(rho)+1), np.cumsum(rho), 'o-')\n",
    "plt.title('Variance explained by principal components')\n",
    "plt.xlabel('Principal component')\n",
    "plt.ylabel('Variance explained')\n",
    "plt.legend(['Individual', 'Cumulative'])\n",
    "plt.grid()\n",
    "plt.show()"
   ]
  },
  {
   "cell_type": "code",
   "execution_count": 68,
   "id": "9180d623",
   "metadata": {},
   "outputs": [
    {
     "data": {
      "text/plain": [
       "1.183625730994152"
      ]
     },
     "execution_count": 68,
     "metadata": {},
     "output_type": "execute_result"
    }
   ],
   "source": [
    "## Q6, average relative density\n",
    "K = 2\n",
    "density = K/(0.9+1.0)   # o3\n",
    "density_n1 = K/(1.0+1.3)   # o2\n",
    "density_n2 = K/(0.9+1.3)   # o5\n",
    "\n",
    "ard = density*K/(density_n1 + density_n2)\n",
    "ard"
   ]
  },
  {
   "cell_type": "raw",
   "id": "ef161065",
   "metadata": {},
   "source": [
    "## Q7, dendogram\n",
    "{1,8} = 0.2\n",
    "{1,8,4} = 0.4\n",
    "{7,11} = 0.9\n",
    "{3,5} = 0.9\n",
    "{2,3,5} = 1.3\n",
    "{6,9} = 1.6\n",
    "{7,11,10} = 1.6\n",
    "{6,9,7,11,10} = 3.4"
   ]
  },
  {
   "cell_type": "code",
   "execution_count": 69,
   "id": "7a5fea36",
   "metadata": {},
   "outputs": [
    {
     "data": {
      "text/plain": [
       "0.01616833675669645"
      ]
     },
     "execution_count": 69,
     "metadata": {},
     "output_type": "execute_result"
    }
   ],
   "source": [
    "## Q9, logistic regression, sigmoid\n",
    "x1 = -0.06\n",
    "x2 = -0.28\n",
    "x3 = 0.43\n",
    "x4 = -0.3\n",
    "x5 = -0.36\n",
    "c1 = 0\n",
    "c2 = 0\n",
    "c3 = 0\n",
    "c4 = 0\n",
    "c5 = 1\n",
    "\n",
    "temp = 1.41 + 0.76*x1 + 1.76*x2 - 0.32*x3 - 0.96*x4 + 6.64*x5 \\\n",
    "- 5.13*c1 - 2.06*c2 + 96.73*c3 + 1.03*c4 - 2.74*c5\n",
    "\n",
    "y_hat = 1/(1+np.exp(-temp))\n",
    "y_hat       # probability of being positive class"
   ]
  },
  {
   "cell_type": "code",
   "execution_count": 70,
   "id": "039ecaa2",
   "metadata": {},
   "outputs": [
    {
     "data": {
      "text/plain": [
       "0.7906976744186047"
      ]
     },
     "execution_count": 70,
     "metadata": {},
     "output_type": "execute_result"
    }
   ],
   "source": [
    "## Q10, F-measure\n",
    "TP = 34\n",
    "FN = 11\n",
    "FP = 7\n",
    "TN = 39\n",
    "\n",
    "precision = TP/(TP+FP)\n",
    "recall = TP/(TP+FN)\n",
    "F1 = 2*precision*recall/(precision+recall)\n",
    "F1"
   ]
  },
  {
   "cell_type": "code",
   "execution_count": 71,
   "id": "ee2e6860",
   "metadata": {},
   "outputs": [],
   "source": [
    "## Q11\n",
    "def draw_ROC_curve(y_hat,y_true):\n",
    "    \"\"\"\n",
    "    Input: y_true values estimated from a 1-dimension observation,\n",
    "           y_hat values based on class membership\n",
    "    Output: Jaccard similarity and Rand index.\n",
    "    \"\"\"\n",
    "    \n",
    "    import matplotlib.pyplot as plt\n",
    "    \n",
    "    if len(y_hat)!=len(y_true):\n",
    "        raise ValueError(\"y_hat and y_true have different array lengths\")\n",
    "        \n",
    "    n = len(y_hat)\n",
    "    n_positive = y_true.count(1)\n",
    "    n_negative = y_true.count(0)\n",
    "    print(f'n_positive: {n_positive}, n_negative: {n_negative}')\n",
    "    \n",
    "    TPR = [1]\n",
    "    FPR = [1]\n",
    "    for i in range(n):\n",
    "        TP = 0\n",
    "        FP = 0\n",
    "        threshold = y_hat[i]\n",
    "        for j in range(n):\n",
    "            if y_hat[j] > threshold and y_true[j]==0:\n",
    "                FP+=1\n",
    "            if y_hat[j] > threshold and y_true[j]==1:\n",
    "                TP+=1\n",
    "        TPR.append(TP/n_positive)\n",
    "        FPR.append(FP/n_negative)\n",
    "        \n",
    "    plt.plot(FPR,TPR)\n",
    "    plt.grid()\n",
    "    plt.axis('square')\n",
    "    plt.show()"
   ]
  },
  {
   "cell_type": "code",
   "execution_count": 72,
   "id": "a5ec7b30",
   "metadata": {},
   "outputs": [
    {
     "name": "stdout",
     "output_type": "stream",
     "text": [
      "n_positive: 3, n_negative: 8\n"
     ]
    },
    {
     "data": {
      "image/png": "[encoded data removed]",
      "text/plain": [
       "<Figure size 640x480 with 1 Axes>"
      ]
     },
     "metadata": {},
     "output_type": "display_data"
    }
   ],
   "source": [
    "import numpy as np\n",
    "\n",
    "y_hat = np.linspace(0,1,11)\n",
    "\n",
    "# y_true = [0,0,0,0,0,0,0,0,1,1,1] # c1\n",
    "# y_true = [0,0,0,0,0,0,0,1,1,0,1] # c1\n",
    "# y_true = [1,1,1,1,1,1,0,1,0,1,0] # c3\n",
    "y_true = [0,0,0,0,0,0,0,1,0,1,1] # c4\n",
    "\n",
    "draw_ROC_curve(y_hat,y_true)"
   ]
  },
  {
   "cell_type": "code",
   "execution_count": 73,
   "id": "6041876b",
   "metadata": {},
   "outputs": [
    {
     "data": {
      "text/plain": [
       "1848"
      ]
     },
     "execution_count": 73,
     "metadata": {},
     "output_type": "execute_result"
    }
   ],
   "source": [
    "## Q13, ANN, time budget\n",
    "M = 3\n",
    "K1 = 4\n",
    "K2 = 7\n",
    "n_trained = (K2*M+1)*K1\n",
    "n_test = (K2*M+1)*K1\n",
    "total = n_trained*20 + n_test\n",
    "total"
   ]
  },
  {
   "cell_type": "code",
   "execution_count": 74,
   "id": "92b0503b",
   "metadata": {},
   "outputs": [
    {
     "data": {
      "text/plain": [
       "0.07034748886745079"
      ]
     },
     "execution_count": 74,
     "metadata": {},
     "output_type": "execute_result"
    }
   ],
   "source": [
    "## Q15, bayes theorem\n",
    "p_africa = 0.154\n",
    "numerator =  0.286*p_africa\n",
    "\n",
    "prob = numerator/(numerator + 0.688*(1-p_africa))\n",
    "prob"
   ]
  },
  {
   "cell_type": "code",
   "execution_count": 75,
   "id": "006c2d9b",
   "metadata": {},
   "outputs": [
    {
     "data": {
      "text/plain": [
       "0.24999999999999994"
      ]
     },
     "execution_count": 75,
     "metadata": {},
     "output_type": "execute_result"
    }
   ],
   "source": [
    "## Q16, robust estimation\n",
    "# (WRONG, it's much simpler than this)\n",
    "a = 1\n",
    "num = (0+a)/(7+2*a)*(7/11)\n",
    "denom = num \\\n",
    "        + (1+a)/(1+2*a)*(1/11) \\\n",
    "        + (1+a)/(2+2*a)*(2/11) \\\n",
    "        + (1+a)/(1+2*a)*(1/11)\n",
    "prob = num/denom\n",
    "prob"
   ]
  },
  {
   "cell_type": "code",
   "execution_count": 76,
   "id": "130e5de0",
   "metadata": {},
   "outputs": [
    {
     "data": {
      "text/plain": [
       "0.39999999999999997"
      ]
     },
     "execution_count": 76,
     "metadata": {},
     "output_type": "execute_result"
    }
   ],
   "source": [
    "## Q17, naive bayes classifier\n",
    "p_y1 = 3/11\n",
    "p_y0 = 1-p_y1\n",
    "\n",
    "num = (1/3)*(2/3)*p_y1\n",
    "denom = num + (8/8)*(1/8)*p_y0\n",
    "\n",
    "prob = num/denom\n",
    "prob"
   ]
  },
  {
   "cell_type": "code",
   "execution_count": 77,
   "id": "47db5ff5",
   "metadata": {},
   "outputs": [
    {
     "name": "stdout",
     "output_type": "stream",
     "text": [
      "0.2222222222222222 0.3333333333333333 0.4 0.64\n"
     ]
    }
   ],
   "source": [
    "print(2/9,1/3,2/5,16/25)"
   ]
  },
  {
   "cell_type": "code",
   "execution_count": 78,
   "id": "a078d8c5",
   "metadata": {},
   "outputs": [
    {
     "data": {
      "text/plain": [
       "0.05903187721369535"
      ]
     },
     "execution_count": 78,
     "metadata": {},
     "output_type": "execute_result"
    }
   ],
   "source": [
    "## Q18, decision tree, gini\n",
    "I_parent = 1 - (8/11)**2 - (3/11)**2\n",
    "I_left = 1 - (2/4)**2 - (2/4)**2\n",
    "I_right = 1 - (6/7)**2 - (1/7)**2\n",
    "\n",
    "w_left = 4/11\n",
    "w_right = 7/11\n",
    "\n",
    "pg = I_parent - w_left*I_left - w_right*I_right\n",
    "pg"
   ]
  },
  {
   "cell_type": "code",
   "execution_count": 79,
   "id": "5a3cfd6b",
   "metadata": {},
   "outputs": [],
   "source": [
    "## Q19, jaccard index\n",
    "def compute_similarity(Z,Q):\n",
    "    \"\"\"\n",
    "    Input: labels of clusters in set Z and Q, \n",
    "    Output: Jaccard index and Rand index.\n",
    "    \"\"\"\n",
    "    import numpy as np\n",
    "    import matplotlib.pyplot as plt\n",
    "\n",
    "    Q = list(map(int,Q.split(\" \")))\n",
    "    Z = list(map(int,Z.split(\" \")))\n",
    "\n",
    "    print(f'Q: {Q}')\n",
    "    print(f'Z: {Z}\\n')\n",
    "\n",
    "    _,n_Q = np.unique(Q, return_counts=True)\n",
    "    _,n_Z = np.unique(Z, return_counts=True)\n",
    "    N = len(Q)\n",
    "    q_clusters = len(n_Q)\n",
    "    z_clusters = len(n_Z)\n",
    "    n = np.zeros((z_clusters,q_clusters),dtype='int32')\n",
    "\n",
    "    for i in range(N):\n",
    "        Q_idx = Q[i]-1\n",
    "        Z_idx = Z[i]-1\n",
    "        if Q[i]==Z[i]: # same cluster\n",
    "            n[Q_idx,Q_idx] += 1\n",
    "        else:          # diff cluster\n",
    "            n[Z_idx,Q_idx] += 1\n",
    "\n",
    "    S = 0\n",
    "    for i in range(z_clusters):\n",
    "        for j in range(q_clusters):\n",
    "            S += n[i,j]*(n[i,j]-1)/2\n",
    "\n",
    "    sum_term_z = 0\n",
    "    for i in range(z_clusters):\n",
    "        sum_term_z += n_Z[i]*(n_Z[i]-1)/2\n",
    "\n",
    "    sum_term_q = 0\n",
    "    for i in range(q_clusters):\n",
    "        sum_term_q += n_Q[i]*(n_Q[i]-1)/2\n",
    "\n",
    "    D = N*(N-1)/2 - sum_term_q - sum_term_z + S\n",
    "\n",
    "    jaccard = S/(0.5*N*(N-1)-D)\n",
    "    rand = (S+D)/(0.5*N*(N-1))\n",
    "\n",
    "    print(f'n: \\n{n}')\n",
    "    print(f'n_Q: {n_Q}')\n",
    "    print(f'n_Z: {n_Z}\\n')\n",
    "    print(f'S: {S}')\n",
    "    print(f'D: {D}')\n",
    "    print(f'jaccard similarity: {jaccard:.4f}')\n",
    "    print(f'rand index: {rand:.4f}')"
   ]
  },
  {
   "cell_type": "code",
   "execution_count": 80,
   "id": "92e1bf9e",
   "metadata": {},
   "outputs": [
    {
     "name": "stdout",
     "output_type": "stream",
     "text": [
      "Q: [0, 0, 0, 0, 0, 0, 0, 0, 1, 1, 1]\n",
      "Z: [0, 0, 0, 0, 0, 0, 0, 0, 1, 1, 0]\n",
      "\n",
      "n: \n",
      "[[2 0]\n",
      " [1 8]]\n",
      "n_Q: [8 3]\n",
      "n_Z: [9 2]\n",
      "\n",
      "S: 29.0\n",
      "D: 16.0\n",
      "jaccard similarity: 0.7436\n",
      "rand index: 0.8182\n"
     ]
    }
   ],
   "source": [
    "Z = '0 0 0 0 0 0 0 0 1 1 0'\n",
    "Q = '0 0 0 0 0 0 0 0 1 1 1'\n",
    "compute_similarity(Z,Q)"
   ]
  },
  {
   "cell_type": "code",
   "execution_count": 81,
   "id": "7756e325",
   "metadata": {},
   "outputs": [
    {
     "data": {
      "text/plain": [
       "3.3"
      ]
     },
     "execution_count": 81,
     "metadata": {},
     "output_type": "execute_result"
    }
   ],
   "source": [
    "## Q20, support\n",
    "0.3*11"
   ]
  },
  {
   "cell_type": "raw",
   "id": "193c3b0d",
   "metadata": {},
   "source": [
    "## Q21, linkage\n",
    "If maximum, assigned blue\n",
    "If average, assigned black\n",
    "If minimum, assigned red"
   ]
  },
  {
   "cell_type": "code",
   "execution_count": 82,
   "id": "4fc5c2c6",
   "metadata": {},
   "outputs": [
    {
     "data": {
      "text/plain": [
       "1.0"
      ]
     },
     "execution_count": 82,
     "metadata": {},
     "output_type": "execute_result"
    }
   ],
   "source": [
    "## Q24, cdf\n",
    "# wrong, need to do math integration\n",
    "p = 0.6*0.2 + 1*0.4 + 1.6*0.3\n",
    "p"
   ]
  },
  {
   "cell_type": "code",
   "execution_count": 83,
   "id": "33a78f7c",
   "metadata": {},
   "outputs": [
    {
     "name": "stdout",
     "output_type": "stream",
     "text": [
      "d:  1.78\n",
      "d:  0.7863759868045784\n",
      "d:  0.64\n"
     ]
    }
   ],
   "source": [
    "## Q25, p-norm, minkowski distance\n",
    "import numpy as np\n",
    "\n",
    "def distance(x, y, p):\n",
    "    if p == 'inf':\n",
    "        d = np.max(np.abs(x-y))\n",
    "    else:\n",
    "        d = np.power(np.sum(np.power(np.abs(x-y),p)) , (1/p))\n",
    "    return d\n",
    "\n",
    "x = np.array([-1.24, -0.26, -1.04])\n",
    "y = np.array([-0.6, -0.86, -0.5])\n",
    "\n",
    "d = distance(x, y, 1)\n",
    "print(\"d: \", d)\n",
    "d = distance(x, y, 4)\n",
    "print(\"d: \", d)\n",
    "d = distance(x, y, 'inf')\n",
    "print(\"d: \", d)"
   ]
  },
  {
   "cell_type": "code",
   "execution_count": 84,
   "id": "4364332e",
   "metadata": {},
   "outputs": [
    {
     "data": {
      "text/plain": [
       "0.7812067103167513"
      ]
     },
     "execution_count": 84,
     "metadata": {},
     "output_type": "execute_result"
    }
   ],
   "source": [
    "## cosine similarity\n",
    "x@y.T/(np.linalg.norm(x)*np.linalg.norm(y))"
   ]
  },
  {
   "cell_type": "code",
   "execution_count": 85,
   "id": "5412efaa",
   "metadata": {},
   "outputs": [
    {
     "data": {
      "text/plain": [
       "True"
      ]
     },
     "execution_count": 85,
     "metadata": {},
     "output_type": "execute_result"
    }
   ],
   "source": [
    "np.sqrt(x@x.T) == np.linalg.norm(x)"
   ]
  },
  {
   "cell_type": "code",
   "execution_count": 86,
   "id": "51aa2513",
   "metadata": {},
   "outputs": [
    {
     "data": {
      "text/plain": [
       "[0.16755048227584546,\n",
       " 0.5681509050484501,\n",
       " 0.40709112580135304,\n",
       " -0.06810510241727454]"
      ]
     },
     "execution_count": 86,
     "metadata": {},
     "output_type": "execute_result"
    }
   ],
   "source": [
    "## Q27, adaboost, prediction\n",
    "T = 4\n",
    "y1_test = [0,1,0,0]   # cross\n",
    "y2_test= [0,1,1,1]    # square\n",
    "\n",
    "e_values = [0.417, 0.243, 0.307, 0.534]\n",
    "a_values = [0.5*np.log((1-e)/e) for e in e_values]\n",
    "a_values"
   ]
  },
  {
   "cell_type": "code",
   "execution_count": 87,
   "id": "aa3d3269",
   "metadata": {},
   "outputs": [
    {
     "name": "stdout",
     "output_type": "stream",
     "text": [
      "1\n",
      "1\n"
     ]
    }
   ],
   "source": [
    "y1_score = [0,0]\n",
    "for i in range(T):\n",
    "    if y1_test[i]==0:\n",
    "        y1_score[0] += a_values[i]\n",
    "    else:\n",
    "        y1_score[1] += a_values[i]\n",
    "        \n",
    "y2_score = [0,0]\n",
    "for i in range(T):\n",
    "    if y2_test[i]==0:\n",
    "        y2_score[0] += a_values[i]\n",
    "    else:\n",
    "        y2_score[1] += a_values[i]\n",
    "        \n",
    "print(np.argmax(y1_score))\n",
    "print(np.argmax(y2_score))"
   ]
  },
  {
   "cell_type": "markdown",
   "id": "c9acc5d3",
   "metadata": {},
   "source": [
    "# Fall 2019\n",
    "\n"
   ]
  },
  {
   "cell_type": "code",
   "execution_count": 88,
   "id": "037332fd",
   "metadata": {},
   "outputs": [],
   "source": [
    "import numpy as np\n",
    "import matplotlib.pyplot as plt"
   ]
  },
  {
   "cell_type": "code",
   "execution_count": 89,
   "id": "8338126a",
   "metadata": {},
   "outputs": [
    {
     "name": "stdout",
     "output_type": "stream",
     "text": [
      "rho:\t [0.3241862  0.19043184 0.16494693 0.15668653 0.13109312 0.03265537]\n",
      "cumsum:\t [0.3241862  0.51461804 0.67956498 0.83625151 0.96734463 1.        ]\n"
     ]
    },
    {
     "data": {
      "image/png": "[encoded data removed]",
      "text/plain": [
       "<Figure size 640x480 with 1 Axes>"
      ]
     },
     "metadata": {},
     "output_type": "display_data"
    }
   ],
   "source": [
    "## Q2\n",
    "# S: sigma, not squared\n",
    "S = np.array([43.67,33.47,31.15,30.36,27.77,13.86])\n",
    "\n",
    "# rho: variance explained by each PC\n",
    "rho = (S*S) / (S*S).sum()\n",
    "print(f'rho:\\t {rho}')\n",
    "\n",
    "# cumulative sum\n",
    "cumsum = np.cumsum(rho)\n",
    "print(f'cumsum:\\t {cumsum}')\n",
    "\n",
    "plt.figure()\n",
    "plt.plot(range(1, len(rho)+1), rho, 'x-')\n",
    "plt.plot(range(1, len(rho)+1), np.cumsum(rho), 'o-')\n",
    "plt.title('Variance explained by principal components')\n",
    "plt.xlabel('Principal component')\n",
    "plt.ylabel('Variance explained')\n",
    "plt.legend(['Individual', 'Cumulative'])\n",
    "plt.grid()\n",
    "plt.show()"
   ]
  },
  {
   "cell_type": "code",
   "execution_count": 90,
   "id": "864015c1",
   "metadata": {
    "scrolled": true
   },
   "outputs": [
    {
     "name": "stdout",
     "output_type": "stream",
     "text": [
      "Start, PC1:  0.18\n",
      "Start, PC2:  -1.38\n",
      "End, PC1:  -0.18\n",
      "End, PC2:  1.38\n"
     ]
    }
   ],
   "source": [
    "## Q4, PCA projection\n",
    "print(\"Start, PC1: \", -0.09*-2)\n",
    "print(\"Start, PC2: \", 0.69*-2)\n",
    "print(\"End, PC1: \", -0.09*2)\n",
    "print(\"End, PC2: \", 0.69*2)\n"
   ]
  },
  {
   "cell_type": "code",
   "execution_count": 91,
   "id": "f5acde14",
   "metadata": {},
   "outputs": [
    {
     "data": {
      "text/plain": [
       "-0.10715195825624312"
      ]
     },
     "execution_count": 91,
     "metadata": {},
     "output_type": "execute_result"
    }
   ],
   "source": [
    "## Q5, correlation\n",
    "cov = -29\n",
    "std_x = np.sqrt(12)\n",
    "std_y = np.sqrt(6104)\n",
    "\n",
    "cor = cov/(std_x*std_y)\n",
    "cor"
   ]
  },
  {
   "cell_type": "code",
   "execution_count": 92,
   "id": "d9cc374b",
   "metadata": {},
   "outputs": [
    {
     "data": {
      "text/plain": [
       "0.8197115384615385"
      ]
     },
     "execution_count": 92,
     "metadata": {},
     "output_type": "execute_result"
    }
   ],
   "source": [
    "## Q6\n",
    "K = 2\n",
    "density = K/(1.5+2.4)   # o5\n",
    "density_n1 = K/(1.5+1.6)   # o4\n",
    "density_n2 = K/(1.6+1.7)   # o6\n",
    "\n",
    "ard = density*K/(density_n1 + density_n2)\n",
    "ard"
   ]
  },
  {
   "cell_type": "raw",
   "id": "af5423d9",
   "metadata": {},
   "source": [
    "## OUT: 2,4,3\n",
    "\n",
    "{4,5}: 1.5\n",
    "{6,8}: 1.7\n",
    "{7,9}: 1.9\n",
    "{6,8,10}: 2.3\n",
    "\n",
    "{3,7,9}: 2.8\n",
    "{2,4,5}: 3.0\n",
    "\n",
    "{2,7,9}: 6.6"
   ]
  },
  {
   "cell_type": "code",
   "execution_count": 93,
   "id": "bcec0e8c",
   "metadata": {},
   "outputs": [
    {
     "data": {
      "text/plain": [
       "0.9973333357084518"
      ]
     },
     "execution_count": 93,
     "metadata": {},
     "output_type": "execute_result"
    }
   ],
   "source": [
    "## Q8 WRONG, much simpler than this\n",
    "N = 1500\n",
    "S = 0.5*(2+1497*1496)\n",
    "D = 0.5*N*(N-1) - 0.5*(1497*1496+2) - 0.5*(1499*1498) + S\n",
    "\n",
    "jaccard = S/(0.5*N*(N-1)-D)\n",
    "jaccard"
   ]
  },
  {
   "cell_type": "code",
   "execution_count": 94,
   "id": "48b7dd90",
   "metadata": {},
   "outputs": [
    {
     "data": {
      "text/plain": [
       "0.0006675567423230974"
      ]
     },
     "execution_count": 94,
     "metadata": {},
     "output_type": "execute_result"
    }
   ],
   "source": [
    "## Q8, jaccard similarity\n",
    "f11 = 1\n",
    "f00 = 2\n",
    "N = 1500\n",
    "\n",
    "jaccard = f11/(N-f00)\n",
    "jaccard"
   ]
  },
  {
   "cell_type": "code",
   "execution_count": 95,
   "id": "36de7d23",
   "metadata": {},
   "outputs": [
    {
     "data": {
      "text/plain": [
       "2.661555580955284"
      ]
     },
     "execution_count": 95,
     "metadata": {},
     "output_type": "execute_result"
    }
   ],
   "source": [
    "## Q14, ridge regression cost function\n",
    "\n",
    "l = 2\n",
    "\n",
    "y = np.array([6,7,7,9])\n",
    "w0 = y.mean()\n",
    "w = 0.6\n",
    "\n",
    "x = np.array([2,5,6,7])\n",
    "mean = x.mean()\n",
    "std = x.std(ddof=1)    # IMPT!! ddof = 1\n",
    "x = (x-mean)/std\n",
    "\n",
    "temp = y - w0 - x*w\n",
    "E = temp@temp.T + l*w**2\n",
    "E"
   ]
  },
  {
   "cell_type": "code",
   "execution_count": 96,
   "id": "c39ca592",
   "metadata": {},
   "outputs": [
    {
     "data": {
      "text/plain": [
       "7.999999999999999"
      ]
     },
     "execution_count": 96,
     "metadata": {},
     "output_type": "execute_result"
    }
   ],
   "source": [
    "## Q16, mean square error, pg mse\n",
    "parent = np.array([12,6,8,10,4,2])\n",
    "left = np.array([12,6,8,10])\n",
    "right = np.array([4,2])\n",
    "\n",
    "I_parent = 1/len(parent)*((parent - parent.mean())**2).sum()\n",
    "I_left = 1/len(left)*((left - left.mean())**2).sum()\n",
    "I_right = 1/len(right)*((right - right.mean())**2).sum()\n",
    "\n",
    "pg = I_parent - 4/6*I_left - 2/6*I_right\n",
    "pg"
   ]
  },
  {
   "cell_type": "code",
   "execution_count": 97,
   "id": "1730bf9f",
   "metadata": {},
   "outputs": [
    {
     "data": {
      "text/plain": [
       "28.444444444444443"
      ]
     },
     "execution_count": 97,
     "metadata": {},
     "output_type": "execute_result"
    }
   ],
   "source": [
    "## Q17, LOO, leave-one-out estimate of generalization error\n",
    "loss = 12-(6+10+4)/3\n",
    "squared_loss = loss**2\n",
    "squared_loss"
   ]
  },
  {
   "cell_type": "code",
   "execution_count": 98,
   "id": "608f357e",
   "metadata": {},
   "outputs": [
    {
     "data": {
      "text/plain": [
       "0.024464831804281346"
      ]
     },
     "execution_count": 98,
     "metadata": {},
     "output_type": "execute_result"
    }
   ],
   "source": [
    "## Q18, McNemar test, estimated difference in accuracy\n",
    "n12 = 40+31+23+30\n",
    "n21 = 24+26+25+25\n",
    "n = 981\n",
    "\n",
    "E_theta = (n12-n21)/n\n",
    "E_theta"
   ]
  },
  {
   "cell_type": "code",
   "execution_count": 99,
   "id": "8b6094d0",
   "metadata": {},
   "outputs": [
    {
     "data": {
      "text/plain": [
       "(638.5, 343.5)"
      ]
     },
     "execution_count": 99,
     "metadata": {},
     "output_type": "execute_result"
    }
   ],
   "source": [
    "## Q19, Jeffreys interval, single model\n",
    "m = 134+141+131+132 \\\n",
    "    + n21\n",
    "n = 981\n",
    "\n",
    "a = m+0.5\n",
    "b = n-m+0.5\n",
    "a,b"
   ]
  },
  {
   "cell_type": "code",
   "execution_count": 100,
   "id": "0609c1f5",
   "metadata": {},
   "outputs": [
    {
     "data": {
      "text/plain": [
       "0.7294206955519241"
      ]
     },
     "execution_count": 100,
     "metadata": {},
     "output_type": "execute_result"
    }
   ],
   "source": [
    "## Q20, ANN output\n",
    "\n",
    "import numpy as np\n",
    "\n",
    "def sigmoid(xw):\n",
    "    output = 1 / (1 + np.exp(-xw))\n",
    "    return output\n",
    "\n",
    "def reLu(xw):\n",
    "    output = (xw > 0) * xw\n",
    "    return output\n",
    "\n",
    "def tanh(xw):\n",
    "    output = np.tanh(xw)\n",
    "    return output\n",
    "\n",
    "w0 = 1.4\n",
    "w1 = np.array([-0.5, -0.1])\n",
    "w2 = np.array([0.9, 2.0])\n",
    "w_list = np.array([w1, w2])\n",
    "w_out = np.array([-1.0, 0.4])\n",
    "\n",
    "# INPUT LAYER, choose a random point for comparison, add 1 in front\n",
    "x = np.array([1,-2])\n",
    "\n",
    "# HIDDEN LAYER\n",
    "z = []   # output of hidden units\n",
    "for weight in w_list:\n",
    "    xw = x @ weight\n",
    "    z.append(sigmoid(xw))\n",
    "\n",
    "# OUTPUT LAYER\n",
    "f = sigmoid(np.sum(w_out * z) + w0)\n",
    "f"
   ]
  },
  {
   "cell_type": "code",
   "execution_count": 101,
   "id": "4d658bca",
   "metadata": {},
   "outputs": [
    {
     "name": "stdout",
     "output_type": "stream",
     "text": [
      "0.09506245267374364\n"
     ]
    },
    {
     "data": {
      "text/plain": [
       "2.3532212068063405"
      ]
     },
     "execution_count": 101,
     "metadata": {},
     "output_type": "execute_result"
    }
   ],
   "source": [
    "## Q21, KDE, cross validation curve, CV curve\n",
    "from scipy.stats import norm\n",
    "\n",
    "N = 3\n",
    "sigma = 2    # choose a value for comparison\n",
    "\n",
    "kde1 = norm.pdf(1.2, 4.5, sigma)\n",
    "kde2 = norm.pdf(1.2, -0.5, sigma)\n",
    "\n",
    "prob = 1/(N-1)*(kde1+kde2)\n",
    "print(prob)\n",
    "\n",
    "n_test = 1\n",
    "E = -1/n_test*np.log(prob)\n",
    "E"
   ]
  },
  {
   "cell_type": "code",
   "execution_count": 102,
   "id": "31a92b84",
   "metadata": {},
   "outputs": [
    {
     "data": {
      "text/plain": [
       "0.42857142857142855"
      ]
     },
     "execution_count": 102,
     "metadata": {},
     "output_type": "execute_result"
    }
   ],
   "source": [
    "3/7"
   ]
  },
  {
   "cell_type": "code",
   "execution_count": 103,
   "id": "741b274e",
   "metadata": {},
   "outputs": [
    {
     "data": {
      "text/plain": [
       "[0.26005815220259126, 0.38706988894897465, 0.35287195884843414]"
      ]
     },
     "execution_count": 103,
     "metadata": {},
     "output_type": "execute_result"
    }
   ],
   "source": [
    "## Q24, multinomial regression model, on projected dataset\n",
    "w1 = np.array([0.04,1.32,-1.48])\n",
    "w2 = np.array([-0.03,0.7,-0.85])\n",
    "b1 = -5.52\n",
    "b2 = -4.69\n",
    "\n",
    "b_til = np.array([1, b1, b2])\n",
    "y1 = b_til @ w1\n",
    "y2 = b_til @ w2\n",
    "\n",
    "denom = 1 + np.exp(y1) + np.exp(y2)\n",
    "p_y1 = np.exp(y1)/denom\n",
    "p_y2 = np.exp(y2)/denom\n",
    "p_y3 = 1/denom\n",
    "\n",
    "p = [p_y1, p_y2, p_y3]\n",
    "p"
   ]
  },
  {
   "cell_type": "code",
   "execution_count": 105,
   "id": "07162a89",
   "metadata": {},
   "outputs": [
    {
     "name": "stdout",
     "output_type": "stream",
     "text": [
      "Cluster centers = \n",
      "[[0.66666667]\n",
      " [2.85      ]\n",
      " [4.53333333]]\n",
      "Labels = [0 0 0 1 1 1 1 2 2 2]\n"
     ]
    },
    {
     "name": "stderr",
     "output_type": "stream",
     "text": [
      "C:\\Users\\yufan\\anaconda3\\envs\\course02450\\lib\\site-packages\\sklearn\\cluster\\_kmeans.py:1382: UserWarning: KMeans is known to have a memory leak on Windows with MKL, when there are less chunks than available threads. You can avoid it by setting the environment variable OMP_NUM_THREADS=1.\n",
      "  warnings.warn(\n"
     ]
    }
   ],
   "source": [
    "## 1-dimensional K-means clustering, K means\n",
    "import numpy as np\n",
    "from sklearn.cluster import KMeans\n",
    "\n",
    "X = np.array([0.4,0.5,1.1,2.2,2.6,3.0,3.6,3.7,4.9,5.0])\n",
    "X = X.reshape(-1,1)\n",
    "\n",
    "nClusters = 3\n",
    "withInitialCluster = True\n",
    "initial_cluster = np.array([2.4,3.3,3.5])\n",
    "initial_cluster = initial_cluster.reshape(-1,1)\n",
    "\n",
    "\n",
    "if withInitialCluster:\n",
    "    kmeans = KMeans(n_clusters=nClusters, n_init=1, max_iter=1000, init=initial_cluster).fit(X)\n",
    "else:\n",
    "    kmeans = KMeans(n_clusters=nClusters, n_init=100, max_iter=1000).fit(X)\n",
    "\n",
    "print(\"Cluster centers = \\n{}\".format(kmeans.cluster_centers_))\n",
    "print(\"Labels = {}\".format(kmeans.labels_))\n"
   ]
  },
  {
   "cell_type": "code",
   "execution_count": 106,
   "id": "522c7111",
   "metadata": {},
   "outputs": [
    {
     "name": "stdout",
     "output_type": "stream",
     "text": [
      "Dist 1:  [0.  0.4 0.6 1.7 2.1 2.7 2.9 3.1 3.2]\n",
      "Dist 2:  [0.4 0.  0.2 1.3 1.7 2.3 2.5 2.7 2.8]\n",
      "Dist 2:  [0.6 0.2 0.  1.1 1.5 2.1 2.3 2.5 2.6]\n",
      "Second iteration\n",
      "Dist 1:  [0.  0.4 0.6 1.7 2.1 2.7 2.9 3.1 3.2]\n",
      "Dist 2:  [0.4 0.  0.2 1.3 1.7 2.3 2.5 2.7 2.8]\n",
      "Dist 2:  [0.6 0.2 0.  1.1 1.5 2.1 2.3 2.5 2.6]\n"
     ]
    }
   ],
   "source": []
  },
  {
   "cell_type": "code",
   "execution_count": 107,
   "id": "06e34389",
   "metadata": {},
   "outputs": [
    {
     "name": "stdout",
     "output_type": "stream",
     "text": [
      "{'f1': 0.18181818181818182, 'f2': 0.45454545454545453, 'f3': 0.36363636363636365, 'f4': 0.09090909090909091, 'f5': 0.09090909090909091, 'f6': 0.6363636363636364, 'f7': 0.09090909090909091, 'f8': 0.9090909090909091}\n",
      "Support of ['f2', 'f5'] = 0.0\n",
      "Confidence of rule '['f2', 'f7']->['f4']' = 0.0\n"
     ]
    }
   ],
   "source": [
    "import numpy as np\n",
    "\n",
    "def fromStringToArray(aString):\n",
    "    return np.array([float(value) for value in aString.split()])\n",
    "\n",
    "\n",
    "transactions = [\n",
    "    \"0 0 0 1 0 0 0 1\",\n",
    "    \"0 0 1 0 0 1 0 1\",\n",
    "    \"0 0 1 0 0 1 0 1\",\n",
    "    \"0 1 0 0 0 1 0 1\",\n",
    "    \"0 0 0 0 0 1 0 1\",\n",
    "    \"0 0 1 0 1 1 0 1\",\n",
    "    \"0 0 1 0 0 1 0 1\",\n",
    "    \"1 1 0 0 0 0 1 1\",\n",
    "    '0 1 0 0 0 0 0 1',\n",
    "    '0 1 0 0 0 1 0 1',\n",
    "    '1 1 0 0 0 0 0 0'\n",
    "]\n",
    "\n",
    "items_names = \"f1 f2 f3 f4 f5 f6 f7 f8\"\n",
    "\n",
    "# for support : give the indexes of concerned items\n",
    "anItemSet = [1, 4]\n",
    "\n",
    "# for confidence: give the indexes of concerned items for rule X -> Y\n",
    "X = [1, 6]\n",
    "Y = [3]\n",
    "\n",
    "transactions = [ fromStringToArray(e) for e in transactions]\n",
    "items_names = items_names.split(' ')\n",
    "\n",
    "def get_all_individuel_supports():\n",
    "    items_supports={}\n",
    "    for i in range (len(transactions[0])):\n",
    "        value = sum([t[i] for t in transactions])/len(transactions)\n",
    "        items_supports[items_names[i]]=value\n",
    "    return items_supports\n",
    "\n",
    "print(get_all_individuel_supports())\n",
    "\n",
    "\n",
    "\n",
    "\n",
    "\n",
    "\n",
    "\n",
    "\n",
    "\n",
    "def get_support(aListOfIndexes):\n",
    "    support = 0\n",
    "    for t in transactions:\n",
    "        boolean_rep = np.product(np.array([t[i]==1 for i in aListOfIndexes]))\n",
    "        if boolean_rep:\n",
    "            support += 1\n",
    "    support = support / len(transactions)\n",
    "    return support\n",
    "\n",
    "print(\"Support of {} = {}\".format([items_names[i] for i in anItemSet], get_support(anItemSet)))\n",
    "\n",
    "\n",
    "def get_confidence(X,Y):\n",
    "    return get_support(X+Y)/get_support(X)\n",
    "\n",
    "print(\"Confidence of rule '{}->{}' = {}\".format([items_names[i] for i in X],[items_names[i] for i in Y],get_confidence(X,Y)))"
   ]
  },
  {
   "cell_type": "markdown",
   "id": "d022df32",
   "metadata": {},
   "source": [
    "## Fall 2022\n"
   ]
  },
  {
   "cell_type": "code",
   "execution_count": 1,
   "id": "3e370bcf",
   "metadata": {},
   "outputs": [],
   "source": [
    "import numpy as np\n",
    "import matplotlib.pyplot as plt"
   ]
  },
  {
   "cell_type": "code",
   "execution_count": 2,
   "id": "ccc9bf57",
   "metadata": {},
   "outputs": [
    {
     "name": "stdout",
     "output_type": "stream",
     "text": [
      "3.88 -1.37\n"
     ]
    }
   ],
   "source": [
    "## Q3, PCA projection\n",
    "X = np.array([7,5,8,9,3,3,2,4,7])\n",
    "X = X.reshape(3,3)\n",
    "X_mu = X.mean(axis=0)    # average of each column\n",
    "\n",
    "V = np.array([[-0.84, 0.53, 0.1],\n",
    "             [0.14,0.39,-0.91],\n",
    "             [0.52,0.75,0.4]])\n",
    "\n",
    "x3 = np.array([2,4,7])\n",
    "x3 = x3 - X_mu\n",
    "\n",
    "b1 = x3 @ V[:,0]\n",
    "b2 = x3 @ V[:,1]\n",
    "print(b1,b2)"
   ]
  },
  {
   "cell_type": "code",
   "execution_count": 3,
   "id": "ef85f15e",
   "metadata": {},
   "outputs": [
    {
     "name": "stdout",
     "output_type": "stream",
     "text": [
      "rho:\t [0.93935997 0.05571822 0.00332071 0.0016011 ]\n",
      "cumsum:\t [0.93935997 0.99507819 0.9983989  1.        ]\n",
      "0.9442817831455644\n"
     ]
    },
    {
     "data": {
      "image/png": "[encoded data removed]",
      "text/plain": [
       "<Figure size 640x480 with 1 Axes>"
      ]
     },
     "metadata": {},
     "output_type": "display_data"
    }
   ],
   "source": [
    "## Q4\n",
    "# S: sigma, not squared\n",
    "# S = np.array([49.8364,3.2358,2.9631,2.0575])\n",
    "S = np.array([49.8364,12.1375,2.9631,2.0575])\n",
    "\n",
    "# rho: variance explained by each PC\n",
    "rho = (S*S) / (S*S).sum()\n",
    "print(f'rho:\\t {rho}')\n",
    "\n",
    "# cumulative sum\n",
    "cumsum = np.cumsum(rho)\n",
    "print(f'cumsum:\\t {cumsum}')\n",
    "\n",
    "print(1-rho[1])\n",
    "\n",
    "plt.figure()\n",
    "plt.plot(range(1, len(rho)+1), rho, 'x-')\n",
    "plt.plot(range(1, len(rho)+1), np.cumsum(rho), 'o-')\n",
    "plt.title('Variance explained by principal components')\n",
    "plt.xlabel('Principal component')\n",
    "plt.ylabel('Variance explained')\n",
    "plt.legend(['Individual', 'Cumulative'])\n",
    "plt.grid()\n",
    "plt.show()"
   ]
  },
  {
   "cell_type": "code",
   "execution_count": 4,
   "id": "39c6b3f6",
   "metadata": {},
   "outputs": [
    {
     "name": "stdout",
     "output_type": "stream",
     "text": [
      "0.027838929999999984\n",
      "0.37630609\n",
      "-0.7996926899999999\n",
      "-0.007298849999999982\n",
      "9.701000000000848e-05\n",
      "8.430000000003712e-06\n"
     ]
    }
   ],
   "source": [
    "## Q4, orthogonal PC\n",
    "v1 = np.array([0.5133,0.5109,0.4915,0.4938])\n",
    "v3 = np.array([0.4679,-0.8066,0.3611,-0.0116])\n",
    "v4 = np.array([-0.7071,-0.2036,0.4769,0.4808])\n",
    "\n",
    "# Test for orthogonal\n",
    "v2 = np.array([0.8180,-0.2276,-0.5273,-0.0336])\n",
    "print(v2 @ v1)\n",
    "print(v2 @ v3)\n",
    "print(v2 @ v4)\n",
    "\n",
    "v2 = np.array([-0.1327,0.2168,0.6330,-0.7312])\n",
    "print(v2 @ v1)\n",
    "print(v2 @ v3)\n",
    "print(v2 @ v4)"
   ]
  },
  {
   "cell_type": "code",
   "execution_count": 1,
   "id": "2253eb7d",
   "metadata": {},
   "outputs": [
    {
     "data": {
      "text/plain": [
       "0.21936459909228442"
      ]
     },
     "execution_count": 1,
     "metadata": {},
     "output_type": "execute_result"
    }
   ],
   "source": [
    "## Q5, decision tree, class error\n",
    "N = 204+166+197+94\n",
    "\n",
    "n1 = 204+21+107+80    # left branch, x1<3.4\n",
    "n2 = N-n1             # right branch\n",
    "n1_n = n1/N\n",
    "n2_n = n2/N\n",
    "\n",
    "I_parent = 1 - 204/N\n",
    "I_left = 1 - 204/n1\n",
    "I_right = 1 - (166-21)/n2\n",
    "\n",
    "pg1 = I_parent - n1_n*I_left - n2_n*I_right\n",
    "pg1"
   ]
  },
  {
   "cell_type": "code",
   "execution_count": 5,
   "id": "9aa32951",
   "metadata": {
    "scrolled": true
   },
   "outputs": [
    {
     "data": {
      "text/plain": [
       "0.2042360060514372"
      ]
     },
     "execution_count": 5,
     "metadata": {},
     "output_type": "execute_result"
    }
   ],
   "source": [
    "n1 = 204+31+128+84    # left branch, x1<3.5\n",
    "n2 = N-n1             # right branch\n",
    "n1_n = n1/N\n",
    "n2_n = n2/N\n",
    "\n",
    "I_parent = 1 - 204/N\n",
    "I_left = 1 - 204/n1\n",
    "I_right = 1 - (166-31)/n2\n",
    "\n",
    "pg2 = I_parent - n1_n*I_left - n2_n*I_right\n",
    "pg2"
   ]
  },
  {
   "cell_type": "code",
   "execution_count": 7,
   "id": "d6dc4a23",
   "metadata": {},
   "outputs": [
    {
     "data": {
      "text/plain": [
       "0.01512859304084721"
      ]
     },
     "execution_count": 7,
     "metadata": {},
     "output_type": "execute_result"
    }
   ],
   "source": [
    "pg1-pg2"
   ]
  },
  {
   "cell_type": "code",
   "execution_count": 10,
   "id": "be2448c0",
   "metadata": {},
   "outputs": [
    {
     "data": {
      "text/plain": [
       "0.9347181008902077"
      ]
     },
     "execution_count": 10,
     "metadata": {},
     "output_type": "execute_result"
    }
   ],
   "source": [
    "## Q9, naive bayes classifier\n",
    "p_C1 = 0.63+0.05+0.2+0.48   # should divide by 2?\n",
    "p_C2 = 0.15+0.17+0.11+0.21\n",
    "\n",
    "numerator = 0.63 * 0.2 * p_C1\n",
    "denom = numerator + 0.17 * 0.11 * p_C2\n",
    "prob = numerator/denom\n",
    "prob"
   ]
  },
  {
   "cell_type": "code",
   "execution_count": 11,
   "id": "e8155949",
   "metadata": {},
   "outputs": [
    {
     "name": "stdout",
     "output_type": "stream",
     "text": [
      "1.3165912425654365\n",
      "1.2596155167351664\n"
     ]
    }
   ],
   "source": [
    "## Q11\n",
    "c1_a1_mu = np.array([-0.78,-0.32,-0.69,0.7]).mean()\n",
    "c1_a2_mu = np.array([-0.9,-0.22,-0.47,0.44]).mean()\n",
    "c2_a1_mu = np.array([1.61,1.15,1.9,2.04]).mean()\n",
    "c2_a2_mu = np.array([1.06,0.72,1.75,2.06]).mean()\n",
    "\n",
    "c1 = np.array([c1_a1_mu,c1_a2_mu])\n",
    "c2 = np.array([c2_a1_mu,c2_a2_mu])\n",
    "x = np.array([0.7,0.6])\n",
    "\n",
    "# Euclidean distance\n",
    "print(np.linalg.norm(x-c1))\n",
    "print(np.linalg.norm(x-c2))"
   ]
  },
  {
   "cell_type": "code",
   "execution_count": 12,
   "id": "2b60e841",
   "metadata": {},
   "outputs": [
    {
     "data": {
      "text/plain": [
       "342"
      ]
     },
     "execution_count": 12,
     "metadata": {},
     "output_type": "execute_result"
    }
   ],
   "source": [
    "## Q12, cv, cross validation, number of models to train\n",
    "K_inner = 5\n",
    "K_outer = 6\n",
    "M = 6+5\n",
    "\n",
    "n = (K_inner*M+2)*K_outer\n",
    "n"
   ]
  },
  {
   "cell_type": "code",
   "execution_count": 13,
   "id": "5f9da401",
   "metadata": {
    "scrolled": true
   },
   "outputs": [
    {
     "data": {
      "text/plain": [
       "0.2826086956521739"
      ]
     },
     "execution_count": 13,
     "metadata": {},
     "output_type": "execute_result"
    }
   ],
   "source": [
    "## Q14, bayes theorem, remember include prior probability\n",
    "p_C1 = 0\n",
    "p_C2 = (104-52)/104\n",
    "p_C3 = (112-28)/112\n",
    "n4 = 400-124-104-112\n",
    "p_C4 = (n4-12)/n4\n",
    "\n",
    "prob = p_C2*104/(p_C1*124+p_C2*104+p_C3*112+p_C4*n4)\n",
    "prob"
   ]
  },
  {
   "cell_type": "code",
   "execution_count": 16,
   "id": "a63d188c",
   "metadata": {},
   "outputs": [
    {
     "name": "stdout",
     "output_type": "stream",
     "text": [
      "0.255 0.29\n"
     ]
    }
   ],
   "source": [
    "## Q15, error, accuracy\n",
    "N = 7+45+6+142\n",
    "e_LR = (6+45)/N\n",
    "e_DT = (22+36)/N\n",
    "print(e_LR, e_DT)"
   ]
  },
  {
   "cell_type": "code",
   "execution_count": 45,
   "id": "a21a80d4",
   "metadata": {
    "scrolled": true
   },
   "outputs": [
    {
     "data": {
      "text/plain": [
       "array([6.83333333, 0.3354102 ])"
      ]
     },
     "execution_count": 45,
     "metadata": {},
     "output_type": "execute_result"
    }
   ],
   "source": [
    "## Q17, regularized linear regression\n",
    "\n",
    "###### 1st Outer Fold #######\n",
    "X_train = np.array([3,4,3,7,5,2])\n",
    "y_train = np.array([10,7,10,9,4,1])\n",
    "\n",
    "# Standardize\n",
    "std = np.std(X_train, ddof = 1)\n",
    "mu = np.mean(X_train)\n",
    "X_train = (X_train-mu)/std\n",
    "\n",
    "# Add offset\n",
    "X_train = X_train.reshape(-1,1)\n",
    "X_train = np.concatenate((np.ones((X_train.shape[0],1)),X_train),1)\n",
    "\n",
    "# Precompute terms\n",
    "Xty = X_train.T @ y_train\n",
    "XtX = X_train.T @ X_train\n",
    "lambdaI = np.eye(2)*10\n",
    "lambdaI[0,0] = 0 # remove bias regularization\n",
    "\n",
    "# Solve for weights\n",
    "w = np.linalg.solve(XtX+lambdaI,Xty)\n",
    "w"
   ]
  },
  {
   "cell_type": "code",
   "execution_count": 46,
   "id": "7943410d",
   "metadata": {},
   "outputs": [
    {
     "data": {
      "text/plain": [
       "array([5.        , 0.72242757])"
      ]
     },
     "execution_count": 46,
     "metadata": {},
     "output_type": "execute_result"
    }
   ],
   "source": [
    "###### 2nd Outer Fold #######\n",
    "X_train = np.array([6,8,4,3,4,10])\n",
    "y_train = np.array([7,6,4,3,5,5])\n",
    "\n",
    "# Standardize\n",
    "std = np.std(X_train, ddof = 1)\n",
    "mu = np.mean(X_train)\n",
    "X_train = (X_train-mu)/std\n",
    "\n",
    "# Add offset\n",
    "X_train = X_train.reshape(-1,1)\n",
    "X_train = np.concatenate((np.ones((X_train.shape[0],1)),X_train),1)\n",
    "\n",
    "# Precompute terms\n",
    "Xty = X_train.T @ y_train\n",
    "XtX = X_train.T @ X_train\n",
    "lambdaI = np.eye(2)*0.1\n",
    "lambdaI[0,0] = 0 # remove bias regularization\n",
    "\n",
    "# Solve for weights\n",
    "w = np.linalg.solve(XtX+lambdaI,Xty)\n",
    "w"
   ]
  },
  {
   "cell_type": "code",
   "execution_count": 48,
   "id": "a20ce2cc",
   "metadata": {},
   "outputs": [],
   "source": [
    "def draw_ROC_curve(y_hat,y_true):\n",
    "    \"\"\"\n",
    "    Input: y_true values estimated from a 1-dimension observation,\n",
    "           y_hat values based on class membership\n",
    "    Output: Jaccard similarity and Rand index.\n",
    "    \"\"\"\n",
    "    \n",
    "    import matplotlib.pyplot as plt\n",
    "    \n",
    "    if len(y_hat)!=len(y_true):\n",
    "        raise ValueError(\"y_hat and y_true have different array lengths\")\n",
    "        \n",
    "    n = len(y_hat)\n",
    "    n_positive = y_true.count(1)\n",
    "    n_negative = y_true.count(0)\n",
    "    print(f'n_positive: {n_positive}, n_negative: {n_negative}')\n",
    "    \n",
    "    TPR = [1]\n",
    "    FPR = [1]\n",
    "    for i in range(n):\n",
    "        TP = 0\n",
    "        FP = 0\n",
    "        threshold = y_hat[i]\n",
    "        for j in range(n):\n",
    "            if y_hat[j] > threshold and y_true[j]==0:\n",
    "                FP+=1\n",
    "            if y_hat[j] > threshold and y_true[j]==1:\n",
    "                TP+=1\n",
    "        TPR.append(TP/n_positive)\n",
    "        FPR.append(FP/n_negative)\n",
    "        \n",
    "    plt.plot(FPR,TPR)\n",
    "    plt.grid()\n",
    "    plt.axis('square')\n",
    "    plt.show()"
   ]
  },
  {
   "cell_type": "code",
   "execution_count": 50,
   "id": "dceb6d19",
   "metadata": {},
   "outputs": [
    {
     "name": "stdout",
     "output_type": "stream",
     "text": [
      "n_positive: 3, n_negative: 4\n"
     ]
    },
    {
     "data": {
      "image/png": "[encoded data removed]",
      "text/plain": [
       "<Figure size 640x480 with 1 Axes>"
      ]
     },
     "metadata": {},
     "output_type": "display_data"
    }
   ],
   "source": [
    "## Q18\n",
    "y_hat = np.linspace(0,0.8,7)\n",
    "\n",
    "# Prediction A\n",
    "y_true = [1,1,0,0,0,1,0]\n",
    "draw_ROC_curve(y_hat,y_true)"
   ]
  },
  {
   "cell_type": "code",
   "execution_count": 73,
   "id": "95946a5c",
   "metadata": {},
   "outputs": [
    {
     "data": {
      "text/plain": [
       "0.43999999999999984"
      ]
     },
     "execution_count": 73,
     "metadata": {},
     "output_type": "execute_result"
    }
   ],
   "source": [
    "## Q21, linear regression, feature transformation\n",
    "y_true = np.array([4,7,0,3,1]).reshape(-1,1)\n",
    "X = np.array([1,4,2,7,3,2,4,9,5,0]).reshape(-1,2)\n",
    "\n",
    "x1x2 = np.array([4,14,6,4*9,0]).reshape(-1,1)\n",
    "X = np.concatenate((X,x1x2),1)\n",
    "\n",
    "w0 = 1\n",
    "w = np.array([-10,4,2]).reshape(-1,1)\n",
    "\n",
    "y_hat = w0 + X @ w\n",
    "temp = 1/5*(abs(y_true-y_hat).sum())\n",
    "E = 37.6\n",
    "l = (E - temp)/np.linalg.norm(w, ord=np.inf)\n",
    "l"
   ]
  },
  {
   "cell_type": "code",
   "execution_count": 75,
   "id": "388c3937",
   "metadata": {},
   "outputs": [
    {
     "data": {
      "text/plain": [
       "2.1981644370974456"
      ]
     },
     "execution_count": 75,
     "metadata": {},
     "output_type": "execute_result"
    }
   ],
   "source": [
    "## Q22, ANN output\n",
    "def sigmoid(xw):\n",
    "    output = 1 / (1 + np.exp(-xw))\n",
    "    return output\n",
    "\n",
    "def reLu(xw):\n",
    "    output = (xw > 0) * xw\n",
    "    return output\n",
    "\n",
    "def tanh(xw):\n",
    "    output = np.tanh(xw)\n",
    "    return output\n",
    "\n",
    "w0 = 1.4\n",
    "w1 = np.array([0,0.3,0.6])\n",
    "w2 = np.array([1.2,0.4,1.9])\n",
    "w_list = np.array([w1, w2])\n",
    "w_out = np.array([-2.4,2.6])\n",
    "\n",
    "# INPUT LAYER, choose a random point for comparison, add 1 in front\n",
    "x = np.array([1,0,0])\n",
    "\n",
    "# HIDDEN LAYER\n",
    "z = []   # output of hidden units\n",
    "for weight in w_list:\n",
    "    xw = x @ weight\n",
    "    z.append(sigmoid(xw))\n",
    "\n",
    "# OUTPUT LAYER\n",
    "f = reLu(np.sum(w_out * z) + w0)\n",
    "f"
   ]
  },
  {
   "cell_type": "code",
   "execution_count": 83,
   "id": "1dd54ec5",
   "metadata": {},
   "outputs": [
    {
     "name": "stdout",
     "output_type": "stream",
     "text": [
      "3\n",
      "3\n",
      "2\n",
      "1\n"
     ]
    }
   ],
   "source": [
    "## Q23, multivariate normal distribution\n",
    "from scipy.stats import multivariate_normal\n",
    "\n",
    "mu_C1 = np.array([0,1])\n",
    "mu_C2 = np.array([2.15,7.55])\n",
    "mu_C3 = np.array([0,4.6])\n",
    "sigma_C1 = np.array([[10,0],[0,0.208]])\n",
    "sigma_C2 = np.array([[2.51,-1.1],[-1.1,0.6]])\n",
    "sigma_C3 = np.array([[1.372,0],[0,1.372]])\n",
    "w1 = 0.2\n",
    "w2 = 0.4\n",
    "w3 = 0.4\n",
    "\n",
    "x = [[0.0,2.0],[1,7],[-1,9],[4.5,1]]\n",
    "for obs in x:\n",
    "    pC1 = w1*multivariate_normal.pdf(obs, mu_C1, sigma_C1)\n",
    "    pC2 = w2*multivariate_normal.pdf(obs, mu_C2, sigma_C2)\n",
    "    pC3 = w3*multivariate_normal.pdf(obs, mu_C3, sigma_C3)\n",
    "    p = np.array([pC1,pC2,pC3])\n",
    "    print(np.argmax(p)+1) # class assigned"
   ]
  }
 ],
 "metadata": {
  "kernelspec": {
   "display_name": "course02450",
   "language": "python",
   "name": "course02450"
  },
  "language_info": {
   "codemirror_mode": {
    "name": "ipython",
    "version": 3
   },
   "file_extension": ".py",
   "mimetype": "text/x-python",
   "name": "python",
   "nbconvert_exporter": "python",
   "pygments_lexer": "ipython3",
   "version": "3.9.16"
  }
 },
 "nbformat": 4,
 "nbformat_minor": 5
}
